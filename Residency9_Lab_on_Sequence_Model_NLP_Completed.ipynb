{
  "nbformat": 4,
  "nbformat_minor": 0,
  "metadata": {
    "colab": {
      "name": "Questions - Lab on Sequence Model NLP (2).ipynb",
      "provenance": [],
      "collapsed_sections": [],
      "toc_visible": true
    },
    "kernelspec": {
      "name": "python3",
      "display_name": "Python 3"
    }
  },
  "cells": [
    {
      "cell_type": "markdown",
      "metadata": {
        "id": "vXE926qT0jHg"
      },
      "source": [
        "# Time series prediction using LSTM"
      ]
    },
    {
      "cell_type": "markdown",
      "metadata": {
        "id": "54u8ql4Z4kBE"
      },
      "source": [
        "## Dataset\n",
        "- Daily minimum temperatures in Melbourne, Australia, 1981-1990\n",
        "- Units: Degrees Celcius"
      ]
    },
    {
      "cell_type": "code",
      "metadata": {
        "id": "pWDWhm5Bsw6r"
      },
      "source": [
        "import pandas as pd\r\n",
        "import matplotlib.pyplot as plt\r\n",
        "import seaborn as sns"
      ],
      "execution_count": 14,
      "outputs": []
    },
    {
      "cell_type": "markdown",
      "metadata": {
        "id": "IPkYyOzY77yl"
      },
      "source": [
        "## Question 1"
      ]
    },
    {
      "cell_type": "markdown",
      "metadata": {
        "id": "aXEOY69f8B9d"
      },
      "source": [
        "### Load the data\n",
        "- load daily-minimum-temperatures-in-me.csv"
      ]
    },
    {
      "cell_type": "code",
      "metadata": {
        "colab": {
          "base_uri": "https://localhost:8080/"
        },
        "id": "RdYyHe4Gsvk4",
        "outputId": "9036d9f9-f019-4a09-a8c3-def0f22c9f65"
      },
      "source": [
        "from google.colab import drive\n",
        "drive.mount('/content/drive')"
      ],
      "execution_count": 1,
      "outputs": [
        {
          "output_type": "stream",
          "text": [
            "Mounted at /content/drive\n"
          ],
          "name": "stdout"
        }
      ]
    },
    {
      "cell_type": "code",
      "metadata": {
        "id": "3nDISLSstCvV"
      },
      "source": [
        "min_temp_df = pd.read_csv('/content/drive/MyDrive/Sequence Models in NLP Lab/daily-minimum-temperatures-in-me.csv')"
      ],
      "execution_count": 31,
      "outputs": []
    },
    {
      "cell_type": "markdown",
      "metadata": {
        "id": "pWcMgg69-T6k"
      },
      "source": [
        "### Print the data\n",
        "- First 5 rows only"
      ]
    },
    {
      "cell_type": "code",
      "metadata": {
        "id": "SM828gT_-Ra2",
        "colab": {
          "base_uri": "https://localhost:8080/",
          "height": 204
        },
        "outputId": "6a906828-803a-4654-a467-3bbc3f220e1f"
      },
      "source": [
        "min_temp_df.head()"
      ],
      "execution_count": 32,
      "outputs": [
        {
          "output_type": "execute_result",
          "data": {
            "text/html": [
              "<div>\n",
              "<style scoped>\n",
              "    .dataframe tbody tr th:only-of-type {\n",
              "        vertical-align: middle;\n",
              "    }\n",
              "\n",
              "    .dataframe tbody tr th {\n",
              "        vertical-align: top;\n",
              "    }\n",
              "\n",
              "    .dataframe thead th {\n",
              "        text-align: right;\n",
              "    }\n",
              "</style>\n",
              "<table border=\"1\" class=\"dataframe\">\n",
              "  <thead>\n",
              "    <tr style=\"text-align: right;\">\n",
              "      <th></th>\n",
              "      <th>Date</th>\n",
              "      <th>Temperature</th>\n",
              "    </tr>\n",
              "  </thead>\n",
              "  <tbody>\n",
              "    <tr>\n",
              "      <th>0</th>\n",
              "      <td>1981-01-01</td>\n",
              "      <td>20.7</td>\n",
              "    </tr>\n",
              "    <tr>\n",
              "      <th>1</th>\n",
              "      <td>1981-01-02</td>\n",
              "      <td>17.9</td>\n",
              "    </tr>\n",
              "    <tr>\n",
              "      <th>2</th>\n",
              "      <td>1981-01-03</td>\n",
              "      <td>18.8</td>\n",
              "    </tr>\n",
              "    <tr>\n",
              "      <th>3</th>\n",
              "      <td>1981-01-04</td>\n",
              "      <td>14.6</td>\n",
              "    </tr>\n",
              "    <tr>\n",
              "      <th>4</th>\n",
              "      <td>1981-01-05</td>\n",
              "      <td>15.8</td>\n",
              "    </tr>\n",
              "  </tbody>\n",
              "</table>\n",
              "</div>"
            ],
            "text/plain": [
              "         Date  Temperature\n",
              "0  1981-01-01         20.7\n",
              "1  1981-01-02         17.9\n",
              "2  1981-01-03         18.8\n",
              "3  1981-01-04         14.6\n",
              "4  1981-01-05         15.8"
            ]
          },
          "metadata": {
            "tags": []
          },
          "execution_count": 32
        }
      ]
    },
    {
      "cell_type": "markdown",
      "metadata": {
        "id": "JGnWESz9BKx8"
      },
      "source": [
        "### Set index column\n",
        "- Set the DataFrame index using \"Date\" column"
      ]
    },
    {
      "cell_type": "code",
      "metadata": {
        "id": "wyJQ1vc8wMfc"
      },
      "source": [
        "min_temp_df = min_temp_df.sort_values(by = 'Date')"
      ],
      "execution_count": 33,
      "outputs": []
    },
    {
      "cell_type": "code",
      "metadata": {
        "id": "nFrbd_vd-eZP"
      },
      "source": [
        "min_temp_df.index = min_temp_df.Date\r\n",
        "min_temp_df.drop(columns='Date', inplace = True)"
      ],
      "execution_count": 34,
      "outputs": []
    },
    {
      "cell_type": "code",
      "metadata": {
        "colab": {
          "base_uri": "https://localhost:8080/",
          "height": 235
        },
        "id": "VvkwXsXRtSVv",
        "outputId": "af63b167-e840-424d-ece1-de24805800d4"
      },
      "source": [
        "min_temp_df.head()"
      ],
      "execution_count": 35,
      "outputs": [
        {
          "output_type": "execute_result",
          "data": {
            "text/html": [
              "<div>\n",
              "<style scoped>\n",
              "    .dataframe tbody tr th:only-of-type {\n",
              "        vertical-align: middle;\n",
              "    }\n",
              "\n",
              "    .dataframe tbody tr th {\n",
              "        vertical-align: top;\n",
              "    }\n",
              "\n",
              "    .dataframe thead th {\n",
              "        text-align: right;\n",
              "    }\n",
              "</style>\n",
              "<table border=\"1\" class=\"dataframe\">\n",
              "  <thead>\n",
              "    <tr style=\"text-align: right;\">\n",
              "      <th></th>\n",
              "      <th>Temperature</th>\n",
              "    </tr>\n",
              "    <tr>\n",
              "      <th>Date</th>\n",
              "      <th></th>\n",
              "    </tr>\n",
              "  </thead>\n",
              "  <tbody>\n",
              "    <tr>\n",
              "      <th>1981-01-01</th>\n",
              "      <td>20.7</td>\n",
              "    </tr>\n",
              "    <tr>\n",
              "      <th>1981-01-02</th>\n",
              "      <td>17.9</td>\n",
              "    </tr>\n",
              "    <tr>\n",
              "      <th>1981-01-03</th>\n",
              "      <td>18.8</td>\n",
              "    </tr>\n",
              "    <tr>\n",
              "      <th>1981-01-04</th>\n",
              "      <td>14.6</td>\n",
              "    </tr>\n",
              "    <tr>\n",
              "      <th>1981-01-05</th>\n",
              "      <td>15.8</td>\n",
              "    </tr>\n",
              "  </tbody>\n",
              "</table>\n",
              "</div>"
            ],
            "text/plain": [
              "            Temperature\n",
              "Date                   \n",
              "1981-01-01         20.7\n",
              "1981-01-02         17.9\n",
              "1981-01-03         18.8\n",
              "1981-01-04         14.6\n",
              "1981-01-05         15.8"
            ]
          },
          "metadata": {
            "tags": []
          },
          "execution_count": 35
        }
      ]
    },
    {
      "cell_type": "markdown",
      "metadata": {
        "id": "sS7IVXq7B1P1"
      },
      "source": [
        "## Question 2"
      ]
    },
    {
      "cell_type": "markdown",
      "metadata": {
        "id": "PcgAOybZCc5-"
      },
      "source": [
        "### Check the total count of null values in the data"
      ]
    },
    {
      "cell_type": "code",
      "metadata": {
        "id": "UTMe5jdCCj4k",
        "colab": {
          "base_uri": "https://localhost:8080/"
        },
        "outputId": "26c7db27-1407-4c13-d289-61dac2b2cfac"
      },
      "source": [
        "min_temp_df['Temperature'].isna().sum()"
      ],
      "execution_count": 36,
      "outputs": [
        {
          "output_type": "execute_result",
          "data": {
            "text/plain": [
              "0"
            ]
          },
          "metadata": {
            "tags": []
          },
          "execution_count": 36
        }
      ]
    },
    {
      "cell_type": "markdown",
      "metadata": {
        "id": "Ua-AeW2YC3kY"
      },
      "source": [
        "### Drop all the rows with null values\n",
        "- use dropna() method"
      ]
    },
    {
      "cell_type": "code",
      "metadata": {
        "id": "9l9UeA6YC8RV"
      },
      "source": [
        "min_temp_df.dropna(axis=0, inplace=True)"
      ],
      "execution_count": 37,
      "outputs": []
    },
    {
      "cell_type": "markdown",
      "metadata": {
        "id": "SJam5Ho-DHK7"
      },
      "source": [
        "## Question 3"
      ]
    },
    {
      "cell_type": "markdown",
      "metadata": {
        "id": "3esUPJAMDzCJ"
      },
      "source": [
        "### Describe your dataframe\n",
        "- use describe() method"
      ]
    },
    {
      "cell_type": "code",
      "metadata": {
        "id": "uhH8OwGVELyH",
        "colab": {
          "base_uri": "https://localhost:8080/",
          "height": 297
        },
        "outputId": "012e2d66-e45e-4b34-8bd5-067cc1658487"
      },
      "source": [
        "min_temp_df.describe()"
      ],
      "execution_count": 38,
      "outputs": [
        {
          "output_type": "execute_result",
          "data": {
            "text/html": [
              "<div>\n",
              "<style scoped>\n",
              "    .dataframe tbody tr th:only-of-type {\n",
              "        vertical-align: middle;\n",
              "    }\n",
              "\n",
              "    .dataframe tbody tr th {\n",
              "        vertical-align: top;\n",
              "    }\n",
              "\n",
              "    .dataframe thead th {\n",
              "        text-align: right;\n",
              "    }\n",
              "</style>\n",
              "<table border=\"1\" class=\"dataframe\">\n",
              "  <thead>\n",
              "    <tr style=\"text-align: right;\">\n",
              "      <th></th>\n",
              "      <th>Temperature</th>\n",
              "    </tr>\n",
              "  </thead>\n",
              "  <tbody>\n",
              "    <tr>\n",
              "      <th>count</th>\n",
              "      <td>3650.000000</td>\n",
              "    </tr>\n",
              "    <tr>\n",
              "      <th>mean</th>\n",
              "      <td>11.177753</td>\n",
              "    </tr>\n",
              "    <tr>\n",
              "      <th>std</th>\n",
              "      <td>4.071837</td>\n",
              "    </tr>\n",
              "    <tr>\n",
              "      <th>min</th>\n",
              "      <td>0.000000</td>\n",
              "    </tr>\n",
              "    <tr>\n",
              "      <th>25%</th>\n",
              "      <td>8.300000</td>\n",
              "    </tr>\n",
              "    <tr>\n",
              "      <th>50%</th>\n",
              "      <td>11.000000</td>\n",
              "    </tr>\n",
              "    <tr>\n",
              "      <th>75%</th>\n",
              "      <td>14.000000</td>\n",
              "    </tr>\n",
              "    <tr>\n",
              "      <th>max</th>\n",
              "      <td>26.300000</td>\n",
              "    </tr>\n",
              "  </tbody>\n",
              "</table>\n",
              "</div>"
            ],
            "text/plain": [
              "       Temperature\n",
              "count  3650.000000\n",
              "mean     11.177753\n",
              "std       4.071837\n",
              "min       0.000000\n",
              "25%       8.300000\n",
              "50%      11.000000\n",
              "75%      14.000000\n",
              "max      26.300000"
            ]
          },
          "metadata": {
            "tags": []
          },
          "execution_count": 38
        }
      ]
    },
    {
      "cell_type": "markdown",
      "metadata": {
        "id": "bizrToFMB4ix"
      },
      "source": [
        "### Plot the dataframe\n",
        "- use plot() method"
      ]
    },
    {
      "cell_type": "code",
      "metadata": {
        "id": "rNiXK6YZB30N",
        "colab": {
          "base_uri": "https://localhost:8080/",
          "height": 623
        },
        "outputId": "9f23b98e-7fd3-4509-9225-6dfb172452c0"
      },
      "source": [
        "min_temp_df.plot(figsize = (15,10))"
      ],
      "execution_count": 39,
      "outputs": [
        {
          "output_type": "execute_result",
          "data": {
            "text/plain": [
              "<matplotlib.axes._subplots.AxesSubplot at 0x7f9db63201d0>"
            ]
          },
          "metadata": {
            "tags": []
          },
          "execution_count": 39
        },
        {
          "output_type": "display_data",
          "data": {
            "image/png": "[encoded data removed]",
            "text/plain": [
              "<Figure size 1080x720 with 1 Axes>"
            ]
          },
          "metadata": {
            "tags": [],
            "needs_background": "light"
          }
        }
      ]
    },
    {
      "cell_type": "markdown",
      "metadata": {
        "id": "OtI9ZGJqE1lh"
      },
      "source": [
        "### Get representation of the distribution of data using histogram\n",
        "- use hist() method"
      ]
    },
    {
      "cell_type": "code",
      "metadata": {
        "id": "qan611HdE9nR",
        "colab": {
          "base_uri": "https://localhost:8080/",
          "height": 370
        },
        "outputId": "d1bfb156-5f20-471a-c775-0bbbd7cc99ec"
      },
      "source": [
        "min_temp_df.hist(figsize=(8,5))"
      ],
      "execution_count": 40,
      "outputs": [
        {
          "output_type": "execute_result",
          "data": {
            "text/plain": [
              "array([[<matplotlib.axes._subplots.AxesSubplot object at 0x7f9db6f5c4d0>]],\n",
              "      dtype=object)"
            ]
          },
          "metadata": {
            "tags": []
          },
          "execution_count": 40
        },
        {
          "output_type": "display_data",
          "data": {
            "image/png": "[encoded data removed]",
            "text/plain": [
              "<Figure size 576x360 with 1 Axes>"
            ]
          },
          "metadata": {
            "tags": [],
            "needs_background": "light"
          }
        }
      ]
    },
    {
      "cell_type": "markdown",
      "metadata": {
        "id": "D8VDVRisHAsH"
      },
      "source": [
        "### Check minimum and maximum temperature\n",
        "- use min() and max() methods"
      ]
    },
    {
      "cell_type": "code",
      "metadata": {
        "id": "xlwlVtRfG_qX",
        "colab": {
          "base_uri": "https://localhost:8080/"
        },
        "outputId": "38565c92-aefc-43d3-bea9-36052596ed6e"
      },
      "source": [
        "print('Minimum Temperature = ', round(min_temp_df.Temperature.min()))\r\n",
        "print('Maximum Temperature = ', round(min_temp_df.Temperature.max()))"
      ],
      "execution_count": 41,
      "outputs": [
        {
          "output_type": "stream",
          "text": [
            "Minimum Temperature =  0\n",
            "Maximum Temperature =  26\n"
          ],
          "name": "stdout"
        }
      ]
    },
    {
      "cell_type": "markdown",
      "metadata": {
        "id": "qTjD3zhSI_BD"
      },
      "source": [
        "## Question 4"
      ]
    },
    {
      "cell_type": "markdown",
      "metadata": {
        "id": "QSDmmRxBMOO7"
      },
      "source": [
        "### Split the dataset into training and testing\n",
        "- training data: 75%\n",
        "- testing data: 25%"
      ]
    },
    {
      "cell_type": "code",
      "metadata": {
        "id": "dbrspzBVM6Gg",
        "colab": {
          "base_uri": "https://localhost:8080/"
        },
        "outputId": "231cf6f2-4998-466d-a11a-5d217dcacda3"
      },
      "source": [
        "print('There are {} data points'.format(min_temp_df.shape[0]))\r\n",
        "print('For training data we will use 75% of datapoints, i.e data till row number {}.'.format(round(min_temp_df.shape[0]*0.75,0)-1))"
      ],
      "execution_count": 102,
      "outputs": [
        {
          "output_type": "stream",
          "text": [
            "There are 3650 data points\n",
            "For training data we will use 75% of datapoints, i.e data till row number 2737.0.\n"
          ],
          "name": "stdout"
        }
      ]
    },
    {
      "cell_type": "code",
      "metadata": {
        "colab": {
          "base_uri": "https://localhost:8080/"
        },
        "id": "5KK62p5NwBQI",
        "outputId": "0900c091-f657-4c36-9543-dd54832510a2"
      },
      "source": [
        "print(min_temp_df.iloc[2737,:])\r\n",
        "print('So we will consider 1988-07-01 as the cutoff date')"
      ],
      "execution_count": 103,
      "outputs": [
        {
          "output_type": "stream",
          "text": [
            "Temperature    6.0\n",
            "Name: 1988-07-01, dtype: float64\n",
            "So we will consider 1988-07-01 as the cutoff date\n"
          ],
          "name": "stdout"
        }
      ]
    },
    {
      "cell_type": "code",
      "metadata": {
        "id": "ZT9CzC7kwnPL"
      },
      "source": [
        "train_df = min_temp_df[min_temp_df.index<'1988-07-01']\r\n",
        "test_df = min_temp_df[min_temp_df.index >= '1988-07-01']"
      ],
      "execution_count": 104,
      "outputs": []
    },
    {
      "cell_type": "code",
      "metadata": {
        "colab": {
          "base_uri": "https://localhost:8080/"
        },
        "id": "x23KN2f9xIHw",
        "outputId": "df3700fc-ff08-4832-c0fd-d519a1b13489"
      },
      "source": [
        "print('Training data rows: ', train_df.shape[0])\r\n",
        "print('Test data rows: ', test_df.shape[0])"
      ],
      "execution_count": 105,
      "outputs": [
        {
          "output_type": "stream",
          "text": [
            "Training data rows:  2737\n",
            "Test data rows:  913\n"
          ],
          "name": "stdout"
        }
      ]
    },
    {
      "cell_type": "markdown",
      "metadata": {
        "id": "eEgBn5JkKwrZ"
      },
      "source": [
        "### Normalize the data\n",
        "- normalize temperature values using MinMaxScaler\n",
        "- feature_range: 0-1\n",
        "- fit MinMaxScaler on train data and transform it\n",
        "  - use fit_transform() method\n",
        "- transform test data using MinMaxScaler object\n",
        "  - use transform() method"
      ]
    },
    {
      "cell_type": "code",
      "metadata": {
        "id": "OqDcm7tbI19Z"
      },
      "source": [
        "from sklearn.preprocessing import MinMaxScaler\r\n",
        "sc = MinMaxScaler(feature_range=(0, 1))\r\n",
        "train_scaled = sc.fit_transform(train_df)\r\n",
        "test_scaled = sc.transform(test_df)"
      ],
      "execution_count": 106,
      "outputs": []
    },
    {
      "cell_type": "markdown",
      "metadata": {
        "id": "4HjbO8gRQ3M1"
      },
      "source": [
        "### Print scaled train and test data\n",
        "- print only first 5 values"
      ]
    },
    {
      "cell_type": "code",
      "metadata": {
        "id": "U_WDZwKxRBRx",
        "colab": {
          "base_uri": "https://localhost:8080/"
        },
        "outputId": "67c20440-6c14-42fe-a540-4ab6df261243"
      },
      "source": [
        "train_scaled[0:5]"
      ],
      "execution_count": 107,
      "outputs": [
        {
          "output_type": "execute_result",
          "data": {
            "text/plain": [
              "array([[0.78707224],\n",
              "       [0.68060837],\n",
              "       [0.7148289 ],\n",
              "       [0.55513308],\n",
              "       [0.60076046]])"
            ]
          },
          "metadata": {
            "tags": []
          },
          "execution_count": 107
        }
      ]
    },
    {
      "cell_type": "code",
      "metadata": {
        "id": "vYlwALHrRGcX",
        "colab": {
          "base_uri": "https://localhost:8080/"
        },
        "outputId": "c3ae0382-b7d5-4e67-f4c5-3b466b0517f0"
      },
      "source": [
        "test_scaled[0:5]"
      ],
      "execution_count": 108,
      "outputs": [
        {
          "output_type": "execute_result",
          "data": {
            "text/plain": [
              "array([[0.22813688],\n",
              "       [0.22053232],\n",
              "       [0.18631179],\n",
              "       [0.19011407],\n",
              "       [0.31939163]])"
            ]
          },
          "metadata": {
            "tags": []
          },
          "execution_count": 108
        }
      ]
    },
    {
      "cell_type": "markdown",
      "metadata": {
        "id": "JB5lHp94RQWY"
      },
      "source": [
        "## Question 5"
      ]
    },
    {
      "cell_type": "markdown",
      "metadata": {
        "id": "kVqNUf00RSiv"
      },
      "source": [
        "### Create sequential data\n",
        "Map the temperature at a particular day 'd' to the temperature at day t\n",
        "'d+n', where n is any number you define.\n",
        "\n",
        "For example: to map temperatures of consecutive days, use d+1, i.e. lookback = 1\n",
        "- Below function takes data as input and returns sequential data.\n",
        "- X as features and y as labels"
      ]
    },
    {
      "cell_type": "code",
      "metadata": {
        "id": "AtxhXruAWws-"
      },
      "source": [
        "import numpy as np\n",
        "def create_seq_data(data, lookback=1):\n",
        "  X, y = list(), list()\n",
        "  \n",
        "  for day in range((len(data)-lookback)):\n",
        "    X.append(data[day: day+lookback, 0])\n",
        "    y.append(data[day+lookback, 0])\n",
        "  return np.array(X), np.array(y)"
      ],
      "execution_count": 143,
      "outputs": []
    },
    {
      "cell_type": "markdown",
      "metadata": {
        "id": "VMBJpuDQJzcG"
      },
      "source": [
        "### Use the above function to create train and test sets\n",
        "- Get X_train and y_train\n",
        "- Get X_test and y_test\n",
        "- lookback = 1"
      ]
    },
    {
      "cell_type": "code",
      "metadata": {
        "id": "Uq6GGmJ0Zqem"
      },
      "source": [
        "#Assign values of batch size and lookback here\r\n",
        "batch_size = 1\r\n",
        "lookback= 1\r\n",
        "X_train,y_train = create_seq_data(train_scaled, lookback)"
      ],
      "execution_count": 144,
      "outputs": []
    },
    {
      "cell_type": "code",
      "metadata": {
        "id": "t9LzAqbbzKcM"
      },
      "source": [
        "X_test, y_test = create_seq_data(test_scaled, lookback)"
      ],
      "execution_count": 145,
      "outputs": []
    },
    {
      "cell_type": "markdown",
      "metadata": {
        "id": "-E2iixEfK0Px"
      },
      "source": [
        "### Reshape the data\n",
        "- Reshape X_train and X_test\n",
        "- use np.reshape() method\n",
        "- this is to be done to make the data ready for input in model"
      ]
    },
    {
      "cell_type": "code",
      "metadata": {
        "id": "PCEzazm_1Txw"
      },
      "source": [
        "X_train=np.reshape(X_train,(X_train.shape[0],X_train.shape[1],1))\r\n",
        "X_test=np.reshape(X_test,(X_test.shape[0],X_test.shape[1],1))"
      ],
      "execution_count": 146,
      "outputs": []
    },
    {
      "cell_type": "markdown",
      "metadata": {
        "id": "zKZ8SALZcuNB"
      },
      "source": [
        "### Print shape of data\n",
        "- print shape of X_train and X_test"
      ]
    },
    {
      "cell_type": "code",
      "metadata": {
        "id": "OSg_rbP6c_HI",
        "colab": {
          "base_uri": "https://localhost:8080/"
        },
        "outputId": "aa519a66-53d2-4f9c-9337-b681c0a881e1"
      },
      "source": [
        "print('Shape of X_train = ',X_train.shape )\r\n",
        "print('Shape of X_test = ',X_test.shape )"
      ],
      "execution_count": 147,
      "outputs": [
        {
          "output_type": "stream",
          "text": [
            "Shape of X_train =  (2736, 1, 1)\n",
            "Shape of X_test =  (912, 1, 1)\n"
          ],
          "name": "stdout"
        }
      ]
    },
    {
      "cell_type": "markdown",
      "metadata": {
        "id": "emGjaYZ5dfRq"
      },
      "source": [
        "## Question 6"
      ]
    },
    {
      "cell_type": "markdown",
      "metadata": {
        "id": "7fk2Ze24dsXw"
      },
      "source": [
        "### Define sequential model\n",
        "- initialize a Sequential model\n",
        "- add an LSTM layer\n",
        "  - units: 10\n",
        "  - stateful: True\n",
        "  - pass a `batch_input_shape` argument to your layer\n",
        "  - batch_input_shape: (batch_size, look_back, 1)\n",
        "    - batch_size: 1\n",
        "    - look_back: 1\n",
        "- add Dense layer with 1 neuron"
      ]
    },
    {
      "cell_type": "code",
      "metadata": {
        "id": "eXU6UNt4dhJz"
      },
      "source": [
        "import tensorflow as tf\r\n",
        "#Build Model\r\n",
        "model = tf.keras.Sequential()\r\n",
        "\r\n",
        "#Add LSTM layer\r\n",
        "model.add(tf.keras.layers.LSTM(10,stateful = True, batch_input_shape=(batch_size, lookback, 1)))\r\n",
        "\r\n",
        "#Add Dense layer\r\n",
        "model.add(tf.keras.layers.Dense(1))"
      ],
      "execution_count": 148,
      "outputs": []
    },
    {
      "cell_type": "markdown",
      "metadata": {
        "id": "cLymvPFzEQSp"
      },
      "source": [
        "## Question 7"
      ]
    },
    {
      "cell_type": "markdown",
      "metadata": {
        "id": "AZmlvbcMrCTh"
      },
      "source": [
        "### compile your model\n",
        "- loss: mean_squared_error\n",
        "- optimizer: adam"
      ]
    },
    {
      "cell_type": "code",
      "metadata": {
        "id": "TrcHrSdtg62Q"
      },
      "source": [
        "model.compile(optimizer = 'adam', loss = 'mean_squared_error')"
      ],
      "execution_count": 149,
      "outputs": []
    },
    {
      "cell_type": "markdown",
      "metadata": {
        "id": "WWAoHdFurJN5"
      },
      "source": [
        "### summarize your model\n",
        "- use summary() method"
      ]
    },
    {
      "cell_type": "code",
      "metadata": {
        "id": "UlIaCMtBrPU2",
        "colab": {
          "base_uri": "https://localhost:8080/"
        },
        "outputId": "cc395d6d-1abb-4a21-de3a-6fe32ee44e73"
      },
      "source": [
        "model.summary()"
      ],
      "execution_count": 150,
      "outputs": [
        {
          "output_type": "stream",
          "text": [
            "Model: \"sequential_3\"\n",
            "_________________________________________________________________\n",
            "Layer (type)                 Output Shape              Param #   \n",
            "=================================================================\n",
            "lstm_3 (LSTM)                (1, 10)                   480       \n",
            "_________________________________________________________________\n",
            "dense_1 (Dense)              (1, 1)                    11        \n",
            "=================================================================\n",
            "Total params: 491\n",
            "Trainable params: 491\n",
            "Non-trainable params: 0\n",
            "_________________________________________________________________\n"
          ],
          "name": "stdout"
        }
      ]
    },
    {
      "cell_type": "markdown",
      "metadata": {
        "id": "dq5a3i6uEcJI"
      },
      "source": [
        "## Question 8"
      ]
    },
    {
      "cell_type": "markdown",
      "metadata": {
        "id": "0Ca3CFhOrf83"
      },
      "source": [
        "### fit your model\n",
        "- epochs: 50\n",
        "- batch_size: 1"
      ]
    },
    {
      "cell_type": "code",
      "metadata": {
        "id": "BbuB-XGPhH6h",
        "colab": {
          "base_uri": "https://localhost:8080/"
        },
        "outputId": "5d2aa88b-c843-40a5-b6e2-2bf62f36e703"
      },
      "source": [
        "model.fit(X_train , y_train, batch_size=batch_size, epochs = 50, validation_data=(X_test, y_test))"
      ],
      "execution_count": 151,
      "outputs": [
        {
          "output_type": "stream",
          "text": [
            "Epoch 1/50\n",
            "2736/2736 [==============================] - 6s 2ms/step - loss: 0.0478 - val_loss: 0.0092\n",
            "Epoch 2/50\n",
            "2736/2736 [==============================] - 4s 1ms/step - loss: 0.0104 - val_loss: 0.0095\n",
            "Epoch 3/50\n",
            "2736/2736 [==============================] - 4s 2ms/step - loss: 0.0101 - val_loss: 0.0095\n",
            "Epoch 4/50\n",
            "2736/2736 [==============================] - 5s 2ms/step - loss: 0.0096 - val_loss: 0.0101\n",
            "Epoch 5/50\n",
            "2736/2736 [==============================] - 4s 2ms/step - loss: 0.0098 - val_loss: 0.0095\n",
            "Epoch 6/50\n",
            "2736/2736 [==============================] - 4s 2ms/step - loss: 0.0098 - val_loss: 0.0094\n",
            "Epoch 7/50\n",
            "2736/2736 [==============================] - 4s 1ms/step - loss: 0.0106 - val_loss: 0.0094\n",
            "Epoch 8/50\n",
            "2736/2736 [==============================] - 4s 1ms/step - loss: 0.0107 - val_loss: 0.0093\n",
            "Epoch 9/50\n",
            "2736/2736 [==============================] - 4s 2ms/step - loss: 0.0099 - val_loss: 0.0091\n",
            "Epoch 10/50\n",
            "2736/2736 [==============================] - 4s 2ms/step - loss: 0.0094 - val_loss: 0.0092\n",
            "Epoch 11/50\n",
            "2736/2736 [==============================] - 4s 2ms/step - loss: 0.0106 - val_loss: 0.0091\n",
            "Epoch 12/50\n",
            "2736/2736 [==============================] - 4s 1ms/step - loss: 0.0102 - val_loss: 0.0091\n",
            "Epoch 13/50\n",
            "2736/2736 [==============================] - 4s 2ms/step - loss: 0.0101 - val_loss: 0.0091\n",
            "Epoch 14/50\n",
            "2736/2736 [==============================] - 4s 2ms/step - loss: 0.0100 - val_loss: 0.0092\n",
            "Epoch 15/50\n",
            "2736/2736 [==============================] - 4s 2ms/step - loss: 0.0100 - val_loss: 0.0091\n",
            "Epoch 16/50\n",
            "2736/2736 [==============================] - 4s 2ms/step - loss: 0.0096 - val_loss: 0.0091\n",
            "Epoch 17/50\n",
            "2736/2736 [==============================] - 4s 2ms/step - loss: 0.0106 - val_loss: 0.0090\n",
            "Epoch 18/50\n",
            "2736/2736 [==============================] - 4s 2ms/step - loss: 0.0104 - val_loss: 0.0092\n",
            "Epoch 19/50\n",
            "2736/2736 [==============================] - 4s 2ms/step - loss: 0.0093 - val_loss: 0.0091\n",
            "Epoch 20/50\n",
            "2736/2736 [==============================] - 4s 2ms/step - loss: 0.0101 - val_loss: 0.0093\n",
            "Epoch 21/50\n",
            "2736/2736 [==============================] - 4s 2ms/step - loss: 0.0102 - val_loss: 0.0100\n",
            "Epoch 22/50\n",
            "2736/2736 [==============================] - 4s 2ms/step - loss: 0.0095 - val_loss: 0.0091\n",
            "Epoch 23/50\n",
            "2736/2736 [==============================] - 4s 2ms/step - loss: 0.0103 - val_loss: 0.0091\n",
            "Epoch 24/50\n",
            "2736/2736 [==============================] - 4s 2ms/step - loss: 0.0099 - val_loss: 0.0091\n",
            "Epoch 25/50\n",
            "2736/2736 [==============================] - 4s 1ms/step - loss: 0.0099 - val_loss: 0.0091\n",
            "Epoch 26/50\n",
            "2736/2736 [==============================] - 4s 2ms/step - loss: 0.0100 - val_loss: 0.0091\n",
            "Epoch 27/50\n",
            "2736/2736 [==============================] - 4s 2ms/step - loss: 0.0098 - val_loss: 0.0099\n",
            "Epoch 28/50\n",
            "2736/2736 [==============================] - 4s 2ms/step - loss: 0.0100 - val_loss: 0.0090\n",
            "Epoch 29/50\n",
            "2736/2736 [==============================] - 4s 2ms/step - loss: 0.0102 - val_loss: 0.0090\n",
            "Epoch 30/50\n",
            "2736/2736 [==============================] - 4s 2ms/step - loss: 0.0105 - val_loss: 0.0091\n",
            "Epoch 31/50\n",
            "2736/2736 [==============================] - 4s 2ms/step - loss: 0.0101 - val_loss: 0.0093\n",
            "Epoch 32/50\n",
            "2736/2736 [==============================] - 4s 2ms/step - loss: 0.0102 - val_loss: 0.0090\n",
            "Epoch 33/50\n",
            "2736/2736 [==============================] - 4s 2ms/step - loss: 0.0100 - val_loss: 0.0092\n",
            "Epoch 34/50\n",
            "2736/2736 [==============================] - 4s 2ms/step - loss: 0.0098 - val_loss: 0.0090\n",
            "Epoch 35/50\n",
            "2736/2736 [==============================] - 4s 2ms/step - loss: 0.0097 - val_loss: 0.0091\n",
            "Epoch 36/50\n",
            "2736/2736 [==============================] - 4s 2ms/step - loss: 0.0096 - val_loss: 0.0093\n",
            "Epoch 37/50\n",
            "2736/2736 [==============================] - 4s 2ms/step - loss: 0.0097 - val_loss: 0.0091\n",
            "Epoch 38/50\n",
            "2736/2736 [==============================] - 4s 2ms/step - loss: 0.0098 - val_loss: 0.0091\n",
            "Epoch 39/50\n",
            "2736/2736 [==============================] - 4s 2ms/step - loss: 0.0105 - val_loss: 0.0095\n",
            "Epoch 40/50\n",
            "2736/2736 [==============================] - 4s 2ms/step - loss: 0.0099 - val_loss: 0.0094\n",
            "Epoch 41/50\n",
            "2736/2736 [==============================] - 4s 2ms/step - loss: 0.0100 - val_loss: 0.0092\n",
            "Epoch 42/50\n",
            "2736/2736 [==============================] - 4s 2ms/step - loss: 0.0093 - val_loss: 0.0097\n",
            "Epoch 43/50\n",
            "2736/2736 [==============================] - 4s 2ms/step - loss: 0.0097 - val_loss: 0.0092\n",
            "Epoch 44/50\n",
            "2736/2736 [==============================] - 4s 2ms/step - loss: 0.0095 - val_loss: 0.0093\n",
            "Epoch 45/50\n",
            "2736/2736 [==============================] - 4s 2ms/step - loss: 0.0100 - val_loss: 0.0090\n",
            "Epoch 46/50\n",
            "2736/2736 [==============================] - 4s 2ms/step - loss: 0.0098 - val_loss: 0.0096\n",
            "Epoch 47/50\n",
            "2736/2736 [==============================] - 4s 2ms/step - loss: 0.0098 - val_loss: 0.0090\n",
            "Epoch 48/50\n",
            "2736/2736 [==============================] - 4s 2ms/step - loss: 0.0097 - val_loss: 0.0093\n",
            "Epoch 49/50\n",
            "2736/2736 [==============================] - 4s 2ms/step - loss: 0.0094 - val_loss: 0.0092\n",
            "Epoch 50/50\n",
            "2736/2736 [==============================] - 4s 2ms/step - loss: 0.0104 - val_loss: 0.0091\n"
          ],
          "name": "stdout"
        },
        {
          "output_type": "execute_result",
          "data": {
            "text/plain": [
              "<tensorflow.python.keras.callbacks.History at 0x7f9d75989f90>"
            ]
          },
          "metadata": {
            "tags": []
          },
          "execution_count": 151
        }
      ]
    },
    {
      "cell_type": "markdown",
      "metadata": {
        "id": "hqRlEmbjEqyG"
      },
      "source": [
        "## Question 9"
      ]
    },
    {
      "cell_type": "markdown",
      "metadata": {
        "id": "12IhOtvUHJBF"
      },
      "source": [
        "### make predictions on train data\n",
        "- use predict() method\n",
        "  - batch_size: 1\n",
        "- store predictions in a variable"
      ]
    },
    {
      "cell_type": "code",
      "metadata": {
        "id": "iXWuJikQHURm"
      },
      "source": [
        "train_pred = model.predict(X_train, batch_size=1)"
      ],
      "execution_count": 182,
      "outputs": []
    },
    {
      "cell_type": "markdown",
      "metadata": {
        "id": "XxxWOa-PsieH"
      },
      "source": [
        "### reset model state\n",
        "- if you are using stateful=True in your model then you should call reset_states every time, when you want to make consecutive model calls independent.\n",
        "- use reset_states() method"
      ]
    },
    {
      "cell_type": "code",
      "metadata": {
        "id": "ZdV5_F1Eo8SY"
      },
      "source": [
        "model.reset_states()"
      ],
      "execution_count": 183,
      "outputs": []
    },
    {
      "cell_type": "markdown",
      "metadata": {
        "id": "KAhziPVBJD0u"
      },
      "source": [
        "### make predictions on test data\n",
        "- use predict() method\n",
        "  - batch_size: 1\n",
        "- store predictions in a variable"
      ]
    },
    {
      "cell_type": "code",
      "metadata": {
        "id": "HuHopEXNJU_y"
      },
      "source": [
        "test_pred = model.predict(X_test, batch_size=1)"
      ],
      "execution_count": 184,
      "outputs": []
    },
    {
      "cell_type": "markdown",
      "metadata": {
        "id": "pO81E-fsJruD"
      },
      "source": [
        "## Question 10"
      ]
    },
    {
      "cell_type": "markdown",
      "metadata": {
        "id": "RImBG7sCtnlb"
      },
      "source": [
        "### Inverse train predictions and true labels\n",
        "- use your MinMaxSclarer object\n",
        "- use inverse_transform() method"
      ]
    },
    {
      "cell_type": "code",
      "metadata": {
        "id": "xXfce41cqN-h"
      },
      "source": [
        "train_pred = sc.inverse_transform(train_pred)"
      ],
      "execution_count": 185,
      "outputs": []
    },
    {
      "cell_type": "code",
      "metadata": {
        "id": "Gz0o4FInImR2"
      },
      "source": [
        "train_true = sc.inverse_transform([y_train]).T"
      ],
      "execution_count": 189,
      "outputs": []
    },
    {
      "cell_type": "markdown",
      "metadata": {
        "id": "5fWSzk8cuPbp"
      },
      "source": [
        "### Inverse test predictions and true labels\n",
        "- use your MinMaxSclarer object\n",
        "- use inverse_transform() method"
      ]
    },
    {
      "cell_type": "code",
      "metadata": {
        "id": "nVJ1wMupuPbu"
      },
      "source": [
        "test_pred = sc.inverse_transform(test_pred)"
      ],
      "execution_count": 187,
      "outputs": []
    },
    {
      "cell_type": "code",
      "metadata": {
        "id": "13rbFL8FI5RT"
      },
      "source": [
        "test_true = sc.inverse_transform([y_test]).T"
      ],
      "execution_count": 194,
      "outputs": []
    },
    {
      "cell_type": "markdown",
      "metadata": {
        "id": "VtowvAItJv6c"
      },
      "source": [
        "### Evaluate train predictions\n",
        "- calculate RMSE\n",
        "- RMSE = sqrt(mean_squared_error(true_labels, predicted_labels))\n",
        "- use sqrt() and mean_squared_error() method\n",
        "- print training RMSE"
      ]
    },
    {
      "cell_type": "code",
      "metadata": {
        "id": "GjXbis_bJ9GL"
      },
      "source": [
        "from sklearn.metrics import mean_squared_error\r\n",
        "import math"
      ],
      "execution_count": 158,
      "outputs": []
    },
    {
      "cell_type": "code",
      "metadata": {
        "id": "pLb65-QiqMDX",
        "colab": {
          "base_uri": "https://localhost:8080/"
        },
        "outputId": "9fd122fb-0a53-43fd-e226-505dccdaad81"
      },
      "source": [
        "train_RMSE = math.sqrt(mean_squared_error(train_true, train_pred))\r\n",
        "print('Train RMSE = ', round(train_RMSE,2))"
      ],
      "execution_count": 190,
      "outputs": [
        {
          "output_type": "stream",
          "text": [
            "Train RMSE =  2.6\n"
          ],
          "name": "stdout"
        }
      ]
    },
    {
      "cell_type": "markdown",
      "metadata": {
        "id": "DBOfSPRDvERE"
      },
      "source": [
        "### Evaluate test predictions\n",
        "- calculate RMSE\n",
        "- RMSE = sqrt(mean_squared_error(true_labels, predicted_labels))\n",
        "- use sqrt() and mean_squared_error() method\n",
        "- print testing RMSE"
      ]
    },
    {
      "cell_type": "code",
      "metadata": {
        "id": "8rQOereovERJ",
        "colab": {
          "base_uri": "https://localhost:8080/"
        },
        "outputId": "063e471e-14b2-444b-a338-34b43c9d0a58"
      },
      "source": [
        "test_RMSE = math.sqrt(mean_squared_error(test_true, test_pred))\r\n",
        "print('Test RMSE = ', round(test_RMSE,2))"
      ],
      "execution_count": 195,
      "outputs": [
        {
          "output_type": "stream",
          "text": [
            "Test RMSE =  2.51\n"
          ],
          "name": "stdout"
        }
      ]
    }
  ]
}