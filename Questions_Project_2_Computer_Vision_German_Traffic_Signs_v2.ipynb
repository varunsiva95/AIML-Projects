{
 "cells": [
  {
   "cell_type": "markdown",
   "metadata": {
    "colab_type": "text",
    "id": "O9jAqShELHZI"
   },
   "source": [
    "![alt text](https://drive.google.com/uc?export=view&id=1UXScsVx_Wni_JuDdB8LeTnM6jsPfIwkW)\n",
    "\n",
    "Proprietary content. © Great Learning. All Rights Reserved. Unauthorized use or distribution prohibited."
   ]
  },
  {
   "cell_type": "markdown",
   "metadata": {
    "colab_type": "text",
    "id": "SRkFT8HtCZHS"
   },
   "source": [
    "# German Traffic Sign Recognition\n",
    "Multi-class, single-image classification"
   ]
  },
  {
   "cell_type": "markdown",
   "metadata": {
    "colab_type": "text",
    "id": "SJWdbMALTcGJ"
   },
   "source": [
    "### Dataset\n",
    "The German Traffic Sign Benchmark is a multi-class, single-image classification challenge held at the International Joint Conference on Neural Networks (IJCNN) 2011. They cordially invite researchers from relevant fields to participate: The competition is designed to allow for participation without special domain knowledge. Their benchmark has the following properties:\n",
    "\n",
    "- Single-image, multi-class classification problem\n",
    "- More than 40 classes\n",
    "- More than 50,000 images in total\n",
    "- Large, lifelike database"
   ]
  },
  {
   "cell_type": "markdown",
   "metadata": {
    "colab_type": "text",
    "id": "hRhJulWyIGMN"
   },
   "source": [
    "#### Notes\n",
    "- You can check “Meta” folder for getting information about the classes.\n",
    "- If the model is taking too much time to get trained then you can reduce the number of classes. There are around 43 classes in the dataset, model should be trained on a minimum of 15 classes."
   ]
  },
  {
   "cell_type": "markdown",
   "metadata": {
    "colab_type": "text",
    "id": "qC37j3FUDVYd"
   },
   "source": [
    "### Initialize ImageDataGenerator (5 Marks)\n",
    "- Rescale the images\n",
    "- Specify value for validation_split & get 75% data in training and 25% data in validation"
   ]
  },
  {
   "cell_type": "code",
   "execution_count": 56,
   "metadata": {
    "colab": {},
    "colab_type": "code",
    "id": "HDQTX9_d0MfK"
   },
   "outputs": [],
   "source": [
    "#Importing necessary libraries\n",
    "import tensorflow as tf\n",
    "import pandas as pd\n",
    "import numpy as np"
   ]
  },
  {
   "cell_type": "code",
   "execution_count": 26,
   "metadata": {
    "colab": {
     "base_uri": "https://localhost:8080/",
     "height": 34
    },
    "colab_type": "code",
    "id": "YJgk_Qc8mS6z",
    "outputId": "b6bf62ae-9b26-4b72-c8aa-1c5737c6a429"
   },
   "outputs": [
    {
     "name": "stdout",
     "output_type": "stream",
     "text": [
      "Drive already mounted at /content/drive/; to attempt to forcibly remount, call drive.mount(\"/content/drive/\", force_remount=True).\n"
     ]
    }
   ],
   "source": [
    "#Mounting drive\n",
    "from google.colab import drive\n",
    "drive.mount('/content/drive/')"
   ]
  },
  {
   "cell_type": "code",
   "execution_count": 28,
   "metadata": {
    "colab": {},
    "colab_type": "code",
    "id": "NwWGgN5_ptyz"
   },
   "outputs": [],
   "source": [
    "#Initializing path containing dataset\n",
    "project_path = '/content/drive/My Drive/Data - German Traffic Sign Recognition.zip'"
   ]
  },
  {
   "cell_type": "code",
   "execution_count": 29,
   "metadata": {
    "colab": {},
    "colab_type": "code",
    "id": "RZoJqiqtqkWf"
   },
   "outputs": [],
   "source": [
    "#Extracting data from zip file\n",
    "from zipfile import ZipFile\n",
    "with ZipFile(file = project_path, mode = 'r') as z:\n",
    "  z.extractall()"
   ]
  },
  {
   "cell_type": "code",
   "execution_count": 45,
   "metadata": {
    "colab": {},
    "colab_type": "code",
    "id": "fphVILmE0G2l"
   },
   "outputs": [],
   "source": [
    "#ImageDataGenerator declaration with 25% data as test (75% for training)\n",
    "img_generator= tf.keras.preprocessing.image.ImageDataGenerator(rotation_range=20,\n",
    "                                                               width_shift_range=0.2,\n",
    "                                                               height_shift_range=0.2,\n",
    "                                                               horizontal_flip=True,\n",
    "                                                               validation_split=0.25)"
   ]
  },
  {
   "cell_type": "markdown",
   "metadata": {
    "colab_type": "text",
    "id": "58e4ODapEVdx"
   },
   "source": [
    "### Get training data from ImageDataGenerator (5 Marks)\n",
    "- Give directory path\n",
    "- Give target size\n",
    "- Give batch_size\n",
    "- Specify classes, if you wish to use less number of classes you need to give class names in a list (Atleast 15 classes should be there)\n",
    "- Specify class_mode\n",
    "- Specify color_mode\n",
    "- Specify subset\n",
    "\n",
    "You can get details here\n",
    "https://www.tensorflow.org/api_docs/python/tf/keras/preprocessing/image/ImageDataGenerator"
   ]
  },
  {
   "cell_type": "code",
   "execution_count": 43,
   "metadata": {
    "colab": {},
    "colab_type": "code",
    "id": "bQIR2z4bs6MM"
   },
   "outputs": [],
   "source": [
    "#Setting directory path for training data\n",
    "working_path = '/content/Data - German Traffic Sign Recognition/Data - German Traffic Sign Recognition'\n",
    "import os\n",
    "os.chdir(working_path)"
   ]
  },
  {
   "cell_type": "code",
   "execution_count": 123,
   "metadata": {
    "colab": {
     "base_uri": "https://localhost:8080/",
     "height": 34
    },
    "colab_type": "code",
    "id": "GSfT2cB4COgC",
    "outputId": "9922c20a-a16b-4060-849c-af24b37fe4cd"
   },
   "outputs": [
    {
     "name": "stdout",
     "output_type": "stream",
     "text": [
      "Found 11319 images belonging to 16 classes.\n"
     ]
    }
   ],
   "source": [
    "#Define image parameters\n",
    "img_size = 60\n",
    "img_depth = 3\n",
    "n_classes = 16\n",
    "#Build training generator. \n",
    "train_generator = img_generator.flow_from_directory('Train',\n",
    "                                                    target_size=(img_size, img_size),\n",
    "                                                    classes = ['0','1','2','3','4','5','6','7','8','9','10','11','12','13','14','15'],\n",
    "                                                    subset='training', \n",
    "                                                    class_mode = \"categorical\", color_mode = \"rgb\",\n",
    "                                                    batch_size=64)"
   ]
  },
  {
   "cell_type": "markdown",
   "metadata": {
    "colab_type": "text",
    "id": "GzYNcoV9Gawj"
   },
   "source": [
    "### Get validation data from ImageDataGenerator (5 Marks)\n",
    "- Give directory path\n",
    "- Give target size\n",
    "- Give batch_size\n",
    "- Specify classes, if you wish to use less number of classes you need to give class names in a list (Atleast 15 classes should be there)\n",
    "- Specify class_mode\n",
    "- Specify color_mode\n",
    "- Specify subset\n",
    "\n",
    "You can get details here\n",
    "https://www.tensorflow.org/api_docs/python/tf/keras/preprocessing/image/ImageDataGenerator"
   ]
  },
  {
   "cell_type": "code",
   "execution_count": 124,
   "metadata": {
    "colab": {
     "base_uri": "https://localhost:8080/",
     "height": 34
    },
    "colab_type": "code",
    "id": "-m9zfw0AHIma",
    "outputId": "4343ce73-429b-4062-d5a6-2e5f66c6cb4a"
   },
   "outputs": [
    {
     "name": "stdout",
     "output_type": "stream",
     "text": [
      "Found 3770 images belonging to 16 classes.\n"
     ]
    }
   ],
   "source": [
    "#Subsetting the validation data images from the training data\n",
    "test_generator = img_generator.flow_from_directory('Train',\n",
    "                                                    target_size=(img_size, img_size),\n",
    "                                                    classes = ['0','1','2','3','4','5','6','7','8','9','10','11','12','13','14','15'],\n",
    "                                                    subset='validation',\n",
    "                                                    class_mode = \"categorical\", color_mode = \"rgb\",\n",
    "                                                    batch_size=64)"
   ]
  },
  {
   "cell_type": "code",
   "execution_count": 125,
   "metadata": {
    "colab": {
     "base_uri": "https://localhost:8080/",
     "height": 50
    },
    "colab_type": "code",
    "id": "k9bIRlmH3K_Z",
    "outputId": "faafd29e-aac3-4490-f68e-b242ff09aaad"
   },
   "outputs": [
    {
     "name": "stdout",
     "output_type": "stream",
     "text": [
      "Input features shape (64, 60, 60, 3)\n",
      "Actual labels shape (64, 16)\n"
     ]
    }
   ],
   "source": [
    "#Lets check the features (images) and Labels (flower class) returned by ImageDataGenerator\n",
    "X, y = next(train_generator)\n",
    "\n",
    "print('Input features shape', X.shape)\n",
    "print('Actual labels shape', y.shape)"
   ]
  },
  {
   "cell_type": "markdown",
   "metadata": {},
   "source": [
    "Each batch of images contains 64 images, and each image has a resolution of 60x60x3"
   ]
  },
  {
   "cell_type": "markdown",
   "metadata": {
    "colab_type": "text",
    "id": "S2fXxJz1I_SV"
   },
   "source": [
    "### Define model (5 Marks)\n",
    "- Initialize a Sequential Model\n",
    "- Add Convolution, Maxpool, Dropout, Flatten & Dense layers according to your model architecture"
   ]
  },
  {
   "cell_type": "code",
   "execution_count": 131,
   "metadata": {
    "colab": {},
    "colab_type": "code",
    "id": "Fns3rEJ-DHQq"
   },
   "outputs": [],
   "source": [
    "#Clear any previous model from memory\n",
    "tf.keras.backend.clear_session()\n",
    "\n",
    "#Initialize\"sequential model\n",
    "model = tf.keras.models.Sequential()\n",
    "\n",
    "#normalizing data\n",
    "model.Adding(tf.keras.layers.BatchNormalization(input_shape=(60,60,3,)))\n",
    "\n",
    "#Adding first convolutional layer with no. of filters as 32 and a depth of 3x3\n",
    "model.Adding(tf.keras.layers.Conv2D(32, \n",
    "                                 kernel_size=(3,3), \n",
    "                                 activation='relu'))\n",
    "#Adding second convolutional layer with no. of filters as 128 and a depth of 3x3\n",
    "model.Adding(tf.keras.layers.Conv2D(128,  \n",
    "                                 kernel_size=(3,3),\n",
    "                                 activation='relu'))\n",
    "#Adding MaxPooling layer\n",
    "model.Adding(tf.keras.layers.MaxPool2D(pool_size=(2,2)))\n",
    "#normalizing data\n",
    "model.Adding(tf.keras.layers.BatchNormalization())\n",
    "\n",
    "#Adding third convolutional layer with no. of filters as 128 and a depth of 3x3\n",
    "model.Adding(tf.keras.layers.Conv2D(128, kernel_size=(3,3), activation='relu'))\n",
    "#Adding MaxPooling layer\n",
    "model.Adding(tf.keras.layers.MaxPool2D(pool_size=(2,2)))\n",
    "#normalizing data\n",
    "model.Adding(tf.keras.layers.BatchNormalization())\n",
    "#Dropout\n",
    "model.Adding(tf.keras.layers.Dropout(0.25))\n",
    "\n",
    "#Adding fourth convolutional layer with no. of filters as 128 and a depth of 3x3\n",
    "model.Adding(tf.keras.layers.Conv2D(128, kernel_size=(3,3), activation='relu'))\n",
    "#Adding MaxPooling layer\n",
    "model.Adding(tf.keras.layers.MaxPool2D(pool_size=(2,2)))\n",
    "#normalizing data\n",
    "model.Adding(tf.keras.layers.BatchNormalization())\n",
    "#Adding dropout layer\n",
    "model.Adding(tf.keras.layers.Dropout(0.5))\n",
    "\n",
    "\n",
    "#Flatten the output\n",
    "model.Adding(tf.keras.layers.Flatten())\n",
    "#Dense layer\n",
    "model.Adding(tf.keras.layers.Dense(128, activation='relu'))\n",
    "#Adding another dropout layer\n",
    "model.Adding(tf.keras.layers.Dropout(0.25))\n",
    "#Output layer\n",
    "model.Adding(tf.keras.layers.Dense(n_classes, activation='softmax'))\n"
   ]
  },
  {
   "cell_type": "markdown",
   "metadata": {
    "colab_type": "text",
    "id": "lRs36YJgJvI0"
   },
   "source": [
    "### Compile the model (2 Marks)\n",
    "- Specify optimizer, loss & metrics"
   ]
  },
  {
   "cell_type": "code",
   "execution_count": 132,
   "metadata": {
    "colab": {},
    "colab_type": "code",
    "id": "jvgO3JPvDQpL"
   },
   "outputs": [],
   "source": [
    "model.compile(optimizer='adam', \n",
    "              loss='categorical_crossentropy', \n",
    "              metrics=['accuracy'])"
   ]
  },
  {
   "cell_type": "markdown",
   "metadata": {
    "colab_type": "text",
    "id": "U_Q6ihfUJ6Hm"
   },
   "source": [
    "### Get model summary (2 Marks)"
   ]
  },
  {
   "cell_type": "code",
   "execution_count": 133,
   "metadata": {
    "colab": {
     "base_uri": "https://localhost:8080/",
     "height": 722
    },
    "colab_type": "code",
    "id": "b3Sxnbo-lhfV",
    "outputId": "c1ae1d54-5f4a-440d-e41b-deddf574bd92"
   },
   "outputs": [
    {
     "name": "stdout",
     "output_type": "stream",
     "text": [
      "Model: \"sequential\"\n",
      "_________________________________________________________________\n",
      "Layer (type)                 Output Shape              Param #   \n",
      "=================================================================\n",
      "batch_normalization (BatchNo (None, 60, 60, 3)         12        \n",
      "_________________________________________________________________\n",
      "conv2d (Conv2D)              (None, 58, 58, 32)        896       \n",
      "_________________________________________________________________\n",
      "conv2d_1 (Conv2D)            (None, 56, 56, 128)       36992     \n",
      "_________________________________________________________________\n",
      "max_pooling2d (MaxPooling2D) (None, 28, 28, 128)       0         \n",
      "_________________________________________________________________\n",
      "batch_normalization_1 (Batch (None, 28, 28, 128)       512       \n",
      "_________________________________________________________________\n",
      "conv2d_2 (Conv2D)            (None, 26, 26, 128)       147584    \n",
      "_________________________________________________________________\n",
      "max_pooling2d_1 (MaxPooling2 (None, 13, 13, 128)       0         \n",
      "_________________________________________________________________\n",
      "batch_normalization_2 (Batch (None, 13, 13, 128)       512       \n",
      "_________________________________________________________________\n",
      "dropout (Dropout)            (None, 13, 13, 128)       0         \n",
      "_________________________________________________________________\n",
      "conv2d_3 (Conv2D)            (None, 11, 11, 128)       147584    \n",
      "_________________________________________________________________\n",
      "max_pooling2d_2 (MaxPooling2 (None, 5, 5, 128)         0         \n",
      "_________________________________________________________________\n",
      "batch_normalization_3 (Batch (None, 5, 5, 128)         512       \n",
      "_________________________________________________________________\n",
      "dropout_1 (Dropout)          (None, 5, 5, 128)         0         \n",
      "_________________________________________________________________\n",
      "flatten (Flatten)            (None, 3200)              0         \n",
      "_________________________________________________________________\n",
      "dense (Dense)                (None, 128)               409728    \n",
      "_________________________________________________________________\n",
      "dropout_2 (Dropout)          (None, 128)               0         \n",
      "_________________________________________________________________\n",
      "dense_1 (Dense)              (None, 16)                2064      \n",
      "=================================================================\n",
      "Total params: 746,396\n",
      "Trainable params: 745,622\n",
      "Non-trainable params: 774\n",
      "_________________________________________________________________\n"
     ]
    }
   ],
   "source": [
    "model.summary()"
   ]
  },
  {
   "cell_type": "markdown",
   "metadata": {
    "colab_type": "text",
    "id": "4mK8GNxFJ9vB"
   },
   "source": [
    "### Fit the model (3 Marks)\n",
    "- Specify epochs\n",
    "- Specify batch_size\n",
    "- Give validation_data\n",
    "- Validation accuracy should be more than 90%"
   ]
  },
  {
   "cell_type": "code",
   "execution_count": 134,
   "metadata": {
    "colab": {
     "base_uri": "https://localhost:8080/",
     "height": 521
    },
    "colab_type": "code",
    "id": "9SLjprPDDYOs",
    "outputId": "bfee4788-84af-4cea-8046-cba044a29fe8"
   },
   "outputs": [
    {
     "name": "stdout",
     "output_type": "stream",
     "text": [
      "Epoch 1/15\n",
      "176/176 [==============================] - 23s 128ms/step - loss: 1.6761 - accuracy: 0.5104 - val_loss: 2.1304 - val_accuracy: 0.2705\n",
      "Epoch 2/15\n",
      "176/176 [==============================] - 22s 126ms/step - loss: 0.7078 - accuracy: 0.7505 - val_loss: 1.2747 - val_accuracy: 0.6638\n",
      "Epoch 3/15\n",
      "176/176 [==============================] - 22s 126ms/step - loss: 0.4721 - accuracy: 0.8285 - val_loss: 0.7110 - val_accuracy: 0.7802\n",
      "Epoch 4/15\n",
      "176/176 [==============================] - 22s 127ms/step - loss: 0.3889 - accuracy: 0.8566 - val_loss: 0.6084 - val_accuracy: 0.8182\n",
      "Epoch 5/15\n",
      "176/176 [==============================] - 22s 124ms/step - loss: 0.3126 - accuracy: 0.8881 - val_loss: 0.6772 - val_accuracy: 0.8006\n",
      "Epoch 6/15\n",
      "176/176 [==============================] - 22s 124ms/step - loss: 0.2667 - accuracy: 0.9080 - val_loss: 0.5675 - val_accuracy: 0.8332\n",
      "Epoch 7/15\n",
      "176/176 [==============================] - 22s 123ms/step - loss: 0.2159 - accuracy: 0.9241 - val_loss: 0.5158 - val_accuracy: 0.8532\n",
      "Epoch 8/15\n",
      "176/176 [==============================] - 22s 125ms/step - loss: 0.1875 - accuracy: 0.9333 - val_loss: 0.3959 - val_accuracy: 0.8796\n",
      "Epoch 9/15\n",
      "176/176 [==============================] - 21s 122ms/step - loss: 0.1514 - accuracy: 0.9470 - val_loss: 0.5791 - val_accuracy: 0.8645\n",
      "Epoch 10/15\n",
      "176/176 [==============================] - 21s 120ms/step - loss: 0.1444 - accuracy: 0.9504 - val_loss: 0.3435 - val_accuracy: 0.9030\n",
      "Epoch 11/15\n",
      "176/176 [==============================] - 21s 120ms/step - loss: 0.1196 - accuracy: 0.9580 - val_loss: 0.3195 - val_accuracy: 0.9133\n",
      "Epoch 12/15\n",
      "176/176 [==============================] - 21s 120ms/step - loss: 0.1042 - accuracy: 0.9635 - val_loss: 0.3118 - val_accuracy: 0.9178\n",
      "Epoch 13/15\n",
      "176/176 [==============================] - 21s 121ms/step - loss: 0.0895 - accuracy: 0.9689 - val_loss: 0.3650 - val_accuracy: 0.8968\n",
      "Epoch 14/15\n",
      "176/176 [==============================] - 21s 120ms/step - loss: 0.0858 - accuracy: 0.9701 - val_loss: 0.2397 - val_accuracy: 0.9418\n",
      "Epoch 15/15\n",
      "176/176 [==============================] - 21s 121ms/step - loss: 0.0753 - accuracy: 0.9754 - val_loss: 0.2725 - val_accuracy: 0.9189\n"
     ]
    }
   ],
   "source": [
    "#fitting the model on the train and test generators\n",
    "history = model.fit(train_generator,\n",
    "          epochs=15,\n",
    "          steps_per_epoch= 11319//64,  #Number of training images//batch_size\n",
    "          validation_data=test_generator,\n",
    "          validation_steps = 3770//64\n",
    "          ) #Number of test images//batch_size"
   ]
  },
  {
   "cell_type": "markdown",
   "metadata": {},
   "source": [
    "**Final validation accuracy is around 92%**"
   ]
  },
  {
   "cell_type": "markdown",
   "metadata": {
    "colab_type": "text",
    "id": "diNbnH_dKO8J"
   },
   "source": [
    "### Draw plots (3 Marks)\n",
    "- Plot training accuracy and validation accuracy with respect to epochs\n",
    "- Plot training loss and validation loss with respect to epochs"
   ]
  },
  {
   "cell_type": "code",
   "execution_count": 135,
   "metadata": {
    "colab": {
     "base_uri": "https://localhost:8080/",
     "height": 295
    },
    "colab_type": "code",
    "id": "8uoIPTssDofN",
    "outputId": "dec3c86a-ec62-46b6-a86d-1bbf884a9e15"
   },
   "outputs": [
    {
     "data": {
      "image/png": "[encoded data removed]",
      "text/plain": [
       "<Figure size 432x288 with 1 Axes>"
      ]
     },
     "metadata": {
      "needs_background": "light",
      "tags": []
     },
     "output_type": "display_data"
    }
   ],
   "source": [
    "import matplotlib.pyplot as plt\n",
    "plt.plot(history.history['accuracy'])\n",
    "plt.plot(history.history['val_accuracy'])\n",
    "plt.plot(history.history['loss'])\n",
    "plt.title('model accuracy')\n",
    "plt.ylabel('accuracy / loss')\n",
    "plt.xlabel('epoch')\n",
    "plt.legend(['training', 'validation','Tr_loss'], loc='best')\n",
    "plt.show()"
   ]
  },
  {
   "cell_type": "markdown",
   "metadata": {},
   "source": [
    "The loss drops significantly in the first 4 epochs, and after which there is a gradual decline in loss. The model is able to hover around 92%-94% val-accuracy after 15 epochs, with the highest accuracy of 94% obtained in the 14th epoch."
   ]
  },
  {
   "cell_type": "markdown",
   "metadata": {},
   "source": [
    "-------"
   ]
  }
 ],
 "metadata": {
  "accelerator": "GPU",
  "colab": {
   "collapsed_sections": [],
   "name": "Questions - Project 2 - Computer Vision - German Traffic Signs.ipynb",
   "provenance": []
  },
  "kernelspec": {
   "display_name": "Python 3",
   "language": "python",
   "name": "python3"
  },
  "language_info": {
   "codemirror_mode": {
    "name": "ipython",
    "version": 3
   },
   "file_extension": ".py",
   "mimetype": "text/x-python",
   "name": "python",
   "nbconvert_exporter": "python",
   "pygments_lexer": "ipython3",
   "version": "3.7.6"
  }
 },
 "nbformat": 4,
 "nbformat_minor": 1
}
