{
 "cells": [
  {
   "cell_type": "markdown",
   "metadata": {
    "colab_type": "text",
    "id": "YYk8NG3yOIT9"
   },
   "source": [
    "### A MNIST-like fashion product database\n",
    "\n",
    "In this, we classify the images into respective classes given in the dataset. We use a Neural Net and a Deep Neural Net in Keras to solve this and check the accuracy scores."
   ]
  },
  {
   "cell_type": "markdown",
   "metadata": {
    "colab_type": "text",
    "id": "tFO6PuxzOIT_",
    "slideshow": {
     "slide_type": "slide"
    }
   },
   "source": [
    "### Load tensorflow"
   ]
  },
  {
   "cell_type": "code",
   "execution_count": 30,
   "metadata": {
    "colab": {},
    "colab_type": "code",
    "id": "efNjNImfOIUC"
   },
   "outputs": [],
   "source": [
    "import tensorflow as tf\n",
    "tf.random.set_seed(42)"
   ]
  },
  {
   "cell_type": "code",
   "execution_count": 31,
   "metadata": {},
   "outputs": [],
   "source": [
    "import numpy as np\n",
    "import pandas as pd\n",
    "from sklearn import metrics\n",
    "import matplotlib.pyplot as plt\n",
    "%matplotlib inline\n",
    "from tensorflow.keras.datasets import mnist\n",
    "from tensorflow.keras import Sequential\n",
    "from tensorflow.keras.layers import Dense"
   ]
  },
  {
   "cell_type": "code",
   "execution_count": 32,
   "metadata": {
    "colab": {},
    "colab_type": "code",
    "id": "l9C4aAIGOIUH",
    "outputId": "5ef9aff6-a7bd-4b26-cba6-8750955f6ca3"
   },
   "outputs": [
    {
     "data": {
      "text/plain": [
       "'2.0.0'"
      ]
     },
     "execution_count": 32,
     "metadata": {},
     "output_type": "execute_result"
    }
   ],
   "source": [
    "tf.__version__"
   ]
  },
  {
   "cell_type": "markdown",
   "metadata": {
    "colab_type": "text",
    "id": "HcoZBStrOIUQ",
    "slideshow": {
     "slide_type": "slide"
    }
   },
   "source": [
    "### Collect Data"
   ]
  },
  {
   "cell_type": "code",
   "execution_count": 33,
   "metadata": {
    "colab": {},
    "colab_type": "code",
    "id": "XA1WsFSeOIUS"
   },
   "outputs": [],
   "source": [
    "from tensorflow import keras"
   ]
  },
  {
   "cell_type": "code",
   "execution_count": 34,
   "metadata": {
    "colab": {},
    "colab_type": "code",
    "id": "qnbx7TyQOIUY"
   },
   "outputs": [],
   "source": [
    "(trainX, trainY), (testX, testY) = keras.datasets.fashion_mnist.load_data()"
   ]
  },
  {
   "cell_type": "code",
   "execution_count": 35,
   "metadata": {
    "colab": {},
    "colab_type": "code",
    "id": "UbiHj5YPOIUc",
    "outputId": "87e1b9cd-07f0-45cb-e706-0d51ad742d72",
    "slideshow": {
     "slide_type": "fragment"
    }
   },
   "outputs": [
    {
     "name": "stdout",
     "output_type": "stream",
     "text": [
      "[9 0 0 3 0]\n"
     ]
    }
   ],
   "source": [
    "print(trainY[0:5])"
   ]
  },
  {
   "cell_type": "markdown",
   "metadata": {
    "colab_type": "text",
    "id": "lDAYzkwyOIUj",
    "slideshow": {
     "slide_type": "slide"
    }
   },
   "source": [
    "### Convert both training and testing labels into one-hot vectors.\n",
    "\n",
    "**Hint:** check **tf.keras.utils.to_categorical()**"
   ]
  },
  {
   "cell_type": "code",
   "execution_count": 36,
   "metadata": {
    "colab": {},
    "colab_type": "code",
    "id": "vBlfYlANOIUk"
   },
   "outputs": [],
   "source": [
    "#Converting our labels to categorial - one hot vectors\n",
    "trainY = keras.utils.to_categorical(trainY, 10)\n",
    "testY = keras.utils.to_categorical(testY, 10)"
   ]
  },
  {
   "cell_type": "code",
   "execution_count": 37,
   "metadata": {
    "colab": {},
    "colab_type": "code",
    "id": "RHV3b9mzOIUq",
    "outputId": "27bdfe58-91ee-4677-fe49-e742ad306c70",
    "scrolled": true,
    "slideshow": {
     "slide_type": "fragment"
    }
   },
   "outputs": [
    {
     "name": "stdout",
     "output_type": "stream",
     "text": [
      "(60000, 10)\n",
      "First 5 examples now are:  [[0. 0. 0. 0. 0. 0. 0. 0. 0. 1.]\n",
      " [1. 0. 0. 0. 0. 0. 0. 0. 0. 0.]\n",
      " [1. 0. 0. 0. 0. 0. 0. 0. 0. 0.]\n",
      " [0. 0. 0. 1. 0. 0. 0. 0. 0. 0.]\n",
      " [1. 0. 0. 0. 0. 0. 0. 0. 0. 0.]]\n"
     ]
    }
   ],
   "source": [
    "print(trainY.shape)\n",
    "print('First 5 examples now are: ', trainY[0:5])"
   ]
  },
  {
   "cell_type": "markdown",
   "metadata": {
    "colab_type": "text",
    "id": "FwhQ8e7VOIUw"
   },
   "source": [
    "### Visualize the data\n",
    "\n",
    "Plot first 10 images in the triaining set and their labels."
   ]
  },
  {
   "cell_type": "code",
   "execution_count": 38,
   "metadata": {},
   "outputs": [],
   "source": [
    "import matplotlib.pyplot as plt\n",
    "%matplotlib inline"
   ]
  },
  {
   "cell_type": "code",
   "execution_count": 39,
   "metadata": {
    "colab": {},
    "colab_type": "code",
    "id": "AvDML2OoOIUx",
    "outputId": "9dafc94e-61a8-4089-be03-d143163d68aa"
   },
   "outputs": [
    {
     "name": "stdout",
     "output_type": "stream",
     "text": [
      "Label =  [0. 0. 0. 0. 0. 0. 0. 0. 0. 1.]\n"
     ]
    },
    {
     "data": {
      "image/png": "[encoded data removed]",
      "text/plain": [
       "<Figure size 432x288 with 1 Axes>"
      ]
     },
     "metadata": {
      "needs_background": "light"
     },
     "output_type": "display_data"
    },
    {
     "name": "stdout",
     "output_type": "stream",
     "text": [
      "----------------------------------------\n",
      "\n",
      "Label =  [1. 0. 0. 0. 0. 0. 0. 0. 0. 0.]\n"
     ]
    },
    {
     "data": {
      "image/png": "[encoded data removed]",
      "text/plain": [
       "<Figure size 432x288 with 1 Axes>"
      ]
     },
     "metadata": {
      "needs_background": "light"
     },
     "output_type": "display_data"
    },
    {
     "name": "stdout",
     "output_type": "stream",
     "text": [
      "----------------------------------------\n",
      "\n",
      "Label =  [1. 0. 0. 0. 0. 0. 0. 0. 0. 0.]\n"
     ]
    },
    {
     "data": {
      "image/png": "[encoded data removed]",
      "text/plain": [
       "<Figure size 432x288 with 1 Axes>"
      ]
     },
     "metadata": {
      "needs_background": "light"
     },
     "output_type": "display_data"
    },
    {
     "name": "stdout",
     "output_type": "stream",
     "text": [
      "----------------------------------------\n",
      "\n",
      "Label =  [0. 0. 0. 1. 0. 0. 0. 0. 0. 0.]\n"
     ]
    },
    {
     "data": {
      "image/png": "[encoded data removed]",
      "text/plain": [
       "<Figure size 432x288 with 1 Axes>"
      ]
     },
     "metadata": {
      "needs_background": "light"
     },
     "output_type": "display_data"
    },
    {
     "name": "stdout",
     "output_type": "stream",
     "text": [
      "----------------------------------------\n",
      "\n",
      "Label =  [1. 0. 0. 0. 0. 0. 0. 0. 0. 0.]\n"
     ]
    },
    {
     "data": {
      "image/png": "[encoded data removed]",
      "text/plain": [
       "<Figure size 432x288 with 1 Axes>"
      ]
     },
     "metadata": {
      "needs_background": "light"
     },
     "output_type": "display_data"
    },
    {
     "name": "stdout",
     "output_type": "stream",
     "text": [
      "----------------------------------------\n",
      "\n",
      "Label =  [0. 0. 1. 0. 0. 0. 0. 0. 0. 0.]\n"
     ]
    },
    {
     "data": {
      "image/png": "[encoded data removed]",
      "text/plain": [
       "<Figure size 432x288 with 1 Axes>"
      ]
     },
     "metadata": {
      "needs_background": "light"
     },
     "output_type": "display_data"
    },
    {
     "name": "stdout",
     "output_type": "stream",
     "text": [
      "----------------------------------------\n",
      "\n",
      "Label =  [0. 0. 0. 0. 0. 0. 0. 1. 0. 0.]\n"
     ]
    },
    {
     "data": {
      "image/png": "[encoded data removed]",
      "text/plain": [
       "<Figure size 432x288 with 1 Axes>"
      ]
     },
     "metadata": {
      "needs_background": "light"
     },
     "output_type": "display_data"
    },
    {
     "name": "stdout",
     "output_type": "stream",
     "text": [
      "----------------------------------------\n",
      "\n",
      "Label =  [0. 0. 1. 0. 0. 0. 0. 0. 0. 0.]\n"
     ]
    },
    {
     "data": {
      "image/png": "[encoded data removed]",
      "text/plain": [
       "<Figure size 432x288 with 1 Axes>"
      ]
     },
     "metadata": {
      "needs_background": "light"
     },
     "output_type": "display_data"
    },
    {
     "name": "stdout",
     "output_type": "stream",
     "text": [
      "----------------------------------------\n",
      "\n",
      "Label =  [0. 0. 0. 0. 0. 1. 0. 0. 0. 0.]\n"
     ]
    },
    {
     "data": {
      "image/png": "[encoded data removed]",
      "text/plain": [
       "<Figure size 432x288 with 1 Axes>"
      ]
     },
     "metadata": {
      "needs_background": "light"
     },
     "output_type": "display_data"
    },
    {
     "name": "stdout",
     "output_type": "stream",
     "text": [
      "----------------------------------------\n",
      "\n",
      "Label =  [0. 0. 0. 0. 0. 1. 0. 0. 0. 0.]\n"
     ]
    },
    {
     "data": {
      "image/png": "[encoded data removed]",
      "text/plain": [
       "<Figure size 432x288 with 1 Axes>"
      ]
     },
     "metadata": {
      "needs_background": "light"
     },
     "output_type": "display_data"
    },
    {
     "name": "stdout",
     "output_type": "stream",
     "text": [
      "----------------------------------------\n",
      "\n",
      "Label =  [1. 0. 0. 0. 0. 0. 0. 0. 0. 0.]\n"
     ]
    },
    {
     "data": {
      "image/png": "[encoded data removed]",
      "text/plain": [
       "<Figure size 432x288 with 1 Axes>"
      ]
     },
     "metadata": {
      "needs_background": "light"
     },
     "output_type": "display_data"
    },
    {
     "name": "stdout",
     "output_type": "stream",
     "text": [
      "----------------------------------------\n",
      "\n"
     ]
    }
   ],
   "source": [
    "#Writing loop to display first 10 images in training set along with its label displayed at the top\n",
    "for i in range(11):\n",
    "    print('Label = ', trainY[i])\n",
    "    plt.imshow(trainX[i,:,:],cmap='gray'); plt.show()\n",
    "    print('----------------------------------------\\n')"
   ]
  },
  {
   "cell_type": "markdown",
   "metadata": {},
   "source": [
    "The images are of shoes, shirts, tops etc."
   ]
  },
  {
   "cell_type": "code",
   "execution_count": 40,
   "metadata": {},
   "outputs": [],
   "source": [
    "#Reshaping Training & Testing samples suitable for #tensorflow backend\n",
    "trainX=trainX.reshape(trainX.shape[0],784).astype('float32')\n",
    "testX=testX.reshape(testX.shape[0],784).astype('float32')\n",
    "\n",
    "#Dividing the pixel values by 255\n",
    "trainX = trainX/255\n",
    "testX = testX/255"
   ]
  },
  {
   "cell_type": "markdown",
   "metadata": {},
   "source": [
    "Reshaping the training and testing data in this format so that it can be fed to the neural network, converting 3D table to a 2D table."
   ]
  },
  {
   "cell_type": "markdown",
   "metadata": {
    "colab_type": "text",
    "id": "l4TbJGeSOIU4",
    "slideshow": {
     "slide_type": "slide"
    }
   },
   "source": [
    "### Build a neural Network with a cross entropy loss function and sgd optimizer in Keras. The output layer with 10 neurons as we have 10 classes."
   ]
  },
  {
   "cell_type": "code",
   "execution_count": 41,
   "metadata": {},
   "outputs": [],
   "source": [
    "# Initialize the constructor\n",
    "model1 = Sequential(name = 'Default')\n",
    "# Initializing first hidden layer to have 784 nodes and the second to have 100 nodes\n",
    "#Considering the relu activation function for the hidden layers\n",
    "model1.add(Dense(784, activation ='relu'))\n",
    "model1.add(Dense(100, activation ='relu'))\n",
    "#Adding the output layer which has 10 nodes and uses the softmax activation function\n",
    "model1.add(Dense(10,activation='softmax'))"
   ]
  },
  {
   "cell_type": "markdown",
   "metadata": {},
   "source": [
    "We prefer softmax in the output layer as we need a probability value (between 0 and 1) for the output\n"
   ]
  },
  {
   "cell_type": "code",
   "execution_count": 42,
   "metadata": {},
   "outputs": [],
   "source": [
    "#Using the default SGD optimizer, categorical crossentropy to measure loss and accuracy as the training metric\n",
    "model1.compile(loss='categorical_crossentropy',optimizer='SGD',metrics=['accuracy'])"
   ]
  },
  {
   "cell_type": "markdown",
   "metadata": {
    "colab_type": "text",
    "id": "3hQpLv3aOIU_",
    "slideshow": {
     "slide_type": "slide"
    }
   },
   "source": [
    "### Execute the model using model.fit()"
   ]
  },
  {
   "cell_type": "code",
   "execution_count": 43,
   "metadata": {
    "colab": {},
    "colab_type": "code",
    "id": "O59C_-IgOIVB"
   },
   "outputs": [
    {
     "name": "stdout",
     "output_type": "stream",
     "text": [
      "Train on 60000 samples\n",
      "Epoch 1/10\n",
      "60000/60000 [==============================] - 2s 30us/sample - loss: 1.1665 - accuracy: 0.6665\n",
      "Epoch 2/10\n",
      "60000/60000 [==============================] - 2s 26us/sample - loss: 0.7136 - accuracy: 0.7767\n",
      "Epoch 3/10\n",
      "60000/60000 [==============================] - 2s 26us/sample - loss: 0.6125 - accuracy: 0.8031\n",
      "Epoch 4/10\n",
      "60000/60000 [==============================] - 1s 25us/sample - loss: 0.5591 - accuracy: 0.8172\n",
      "Epoch 5/10\n",
      "60000/60000 [==============================] - 2s 26us/sample - loss: 0.5264 - accuracy: 0.8252\n",
      "Epoch 6/10\n",
      "60000/60000 [==============================] - 1s 25us/sample - loss: 0.5033 - accuracy: 0.8303\n",
      "Epoch 7/10\n",
      "60000/60000 [==============================] - 1s 25us/sample - loss: 0.4859 - accuracy: 0.8351\n",
      "Epoch 8/10\n",
      "60000/60000 [==============================] - 1s 25us/sample - loss: 0.4726 - accuracy: 0.8382\n",
      "Epoch 9/10\n",
      "60000/60000 [==============================] - 1s 25us/sample - loss: 0.4617 - accuracy: 0.8421\n",
      "Epoch 10/10\n",
      "60000/60000 [==============================] - 2s 26us/sample - loss: 0.4524 - accuracy: 0.8455\n"
     ]
    },
    {
     "data": {
      "text/plain": [
       "<tensorflow.python.keras.callbacks.History at 0x1f946f49808>"
      ]
     },
     "execution_count": 43,
     "metadata": {},
     "output_type": "execute_result"
    }
   ],
   "source": [
    "#Considering a batch size of 256 and 10 epochs\n",
    "model1.fit(trainX, trainY, epochs=10, batch_size=256, verbose=1)"
   ]
  },
  {
   "cell_type": "markdown",
   "metadata": {},
   "source": [
    "Without BatchNormalization, the model has achieved a training accuracy of 84.55%."
   ]
  },
  {
   "cell_type": "markdown",
   "metadata": {
    "colab_type": "text",
    "id": "JdzDtGwDOIVF",
    "slideshow": {
     "slide_type": "slide"
    }
   },
   "source": [
    "### In the above Neural Network model add Batch Normalization layer after the input layer and repeat the steps."
   ]
  },
  {
   "cell_type": "code",
   "execution_count": 44,
   "metadata": {},
   "outputs": [],
   "source": [
    "#Importing the BatchNormalization package from keras.layers\n",
    "from tensorflow.keras.layers import BatchNormalization"
   ]
  },
  {
   "cell_type": "code",
   "execution_count": 45,
   "metadata": {},
   "outputs": [],
   "source": [
    "# Defining the same model architecture as before\n",
    "model2 = Sequential(name = 'Default_with_Batch_Normalization')\n",
    "#Adding the Batch Normalization layer after the input layer\n",
    "model2.add(BatchNormalization())\n",
    "model2.add(Dense(784, activation ='relu'))\n",
    "model2.add(Dense(100, activation ='relu'))\n",
    "model2.add(Dense(10,activation='softmax'))"
   ]
  },
  {
   "cell_type": "code",
   "execution_count": 46,
   "metadata": {},
   "outputs": [],
   "source": [
    "model2.compile(loss='categorical_crossentropy',optimizer='SGD',metrics=['accuracy'])"
   ]
  },
  {
   "cell_type": "code",
   "execution_count": 47,
   "metadata": {},
   "outputs": [
    {
     "name": "stdout",
     "output_type": "stream",
     "text": [
      "Train on 60000 samples\n",
      "Epoch 1/10\n",
      "60000/60000 [==============================] - 3s 46us/sample - loss: 0.8127 - accuracy: 0.7345\n",
      "Epoch 2/10\n",
      "60000/60000 [==============================] - 2s 39us/sample - loss: 0.5101 - accuracy: 0.8213\n",
      "Epoch 3/10\n",
      "60000/60000 [==============================] - 2s 39us/sample - loss: 0.4508 - accuracy: 0.8417\n",
      "Epoch 4/10\n",
      "60000/60000 [==============================] - 2s 39us/sample - loss: 0.4192 - accuracy: 0.8521\n",
      "Epoch 5/10\n",
      "60000/60000 [==============================] - 2s 40us/sample - loss: 0.3979 - accuracy: 0.8595\n",
      "Epoch 6/10\n",
      "60000/60000 [==============================] - 3s 42us/sample - loss: 0.3817 - accuracy: 0.8646\n",
      "Epoch 7/10\n",
      "60000/60000 [==============================] - 2s 41us/sample - loss: 0.3686 - accuracy: 0.8701\n",
      "Epoch 8/10\n",
      "60000/60000 [==============================] - 2s 40us/sample - loss: 0.3564 - accuracy: 0.8748\n",
      "Epoch 9/10\n",
      "60000/60000 [==============================] - 2s 40us/sample - loss: 0.3472 - accuracy: 0.8768\n",
      "Epoch 10/10\n",
      "60000/60000 [==============================] - 2s 40us/sample - loss: 0.3387 - accuracy: 0.8802\n"
     ]
    },
    {
     "data": {
      "text/plain": [
       "<tensorflow.python.keras.callbacks.History at 0x1f9473ac208>"
      ]
     },
     "execution_count": 47,
     "metadata": {},
     "output_type": "execute_result"
    }
   ],
   "source": [
    "model2.fit(trainX, trainY, epochs=10, batch_size=256, verbose=1)"
   ]
  },
  {
   "cell_type": "markdown",
   "metadata": {},
   "source": [
    "After adding BatchNormalization, the training accuracy of the model has increased to 88% (An increase of 3.5% from earlier)"
   ]
  },
  {
   "cell_type": "markdown",
   "metadata": {
    "colab_type": "text",
    "id": "mwk3T5LJOIVN",
    "slideshow": {
     "slide_type": "slide"
    }
   },
   "source": [
    "### Execute the model"
   ]
  },
  {
   "cell_type": "code",
   "execution_count": 48,
   "metadata": {
    "colab": {},
    "colab_type": "code",
    "id": "JNLR8tcBOIVP"
   },
   "outputs": [
    {
     "name": "stdout",
     "output_type": "stream",
     "text": [
      "Accuracy: 0.864\n",
      "Loss: 0.385\n"
     ]
    }
   ],
   "source": [
    "#Using the evaluate function to get the test accuracy\n",
    "loss, acc = model2.evaluate(testX, testY, verbose=0)\n",
    "print('Accuracy: %.3f'  % acc)\n",
    "print('Loss: %.3f' % loss)"
   ]
  },
  {
   "cell_type": "markdown",
   "metadata": {},
   "source": [
    "As the testing accuracy is very close to the training accuracy (difference of 1.4%) we can see that the model is not overfit."
   ]
  },
  {
   "cell_type": "markdown",
   "metadata": {
    "colab_type": "text",
    "id": "Py-KwkmjOIVU"
   },
   "source": [
    "### Customize the learning rate to 0.001 in sgd optimizer and run the model"
   ]
  },
  {
   "cell_type": "code",
   "execution_count": 49,
   "metadata": {},
   "outputs": [],
   "source": [
    "#Importing the optimizers package from the keras library\n",
    "#Will use this package to create a customized SGD optimizer\n",
    "from tensorflow.keras import optimizers"
   ]
  },
  {
   "cell_type": "code",
   "execution_count": 50,
   "metadata": {
    "colab": {},
    "colab_type": "code",
    "id": "yLXUE9jWOIVV"
   },
   "outputs": [
    {
     "name": "stdout",
     "output_type": "stream",
     "text": [
      "Train on 60000 samples\n",
      "Epoch 1/10\n",
      "60000/60000 [==============================] - 3s 44us/sample - loss: 1.5739 - accuracy: 0.4956\n",
      "Epoch 2/10\n",
      "60000/60000 [==============================] - 2s 40us/sample - loss: 1.0051 - accuracy: 0.6972\n",
      "Epoch 3/10\n",
      "60000/60000 [==============================] - 2s 40us/sample - loss: 0.8364 - accuracy: 0.7372\n",
      "Epoch 4/10\n",
      "60000/60000 [==============================] - 2s 40us/sample - loss: 0.7490 - accuracy: 0.7589\n",
      "Epoch 5/10\n",
      "60000/60000 [==============================] - 2s 40us/sample - loss: 0.6935 - accuracy: 0.7717\n",
      "Epoch 6/10\n",
      "60000/60000 [==============================] - 2s 41us/sample - loss: 0.6539 - accuracy: 0.7818\n",
      "Epoch 7/10\n",
      "60000/60000 [==============================] - 2s 40us/sample - loss: 0.6233 - accuracy: 0.7907\n",
      "Epoch 8/10\n",
      "60000/60000 [==============================] - 2s 39us/sample - loss: 0.5992 - accuracy: 0.7968\n",
      "Epoch 9/10\n",
      "60000/60000 [==============================] - 2s 39us/sample - loss: 0.5786 - accuracy: 0.8031\n",
      "Epoch 10/10\n",
      "60000/60000 [==============================] - 2s 39us/sample - loss: 0.5615 - accuracy: 0.8084\n"
     ]
    },
    {
     "data": {
      "text/plain": [
       "<tensorflow.python.keras.callbacks.History at 0x1f946853b08>"
      ]
     },
     "execution_count": 50,
     "metadata": {},
     "output_type": "execute_result"
    }
   ],
   "source": [
    "# Defining the same model architecture as previous iterations\n",
    "model3 = Sequential(name = 'Sgd_with_lr0.001')\n",
    "model3.add(BatchNormalization())\n",
    "model3.add(Dense(784, activation ='relu'))\n",
    "model3.add(Dense(100, activation ='relu'))\n",
    "model3.add(Dense(10,activation='softmax'))\n",
    "\n",
    "#Creating our customized sgd optimizer with a learning rate of 0.001\n",
    "sgd = optimizers.SGD(lr=0.001)\n",
    "\n",
    "#Using the above created sgd optimizer while compiling our model\n",
    "model3.compile(loss='categorical_crossentropy', optimizer=sgd, metrics=['accuracy'])\n",
    "\n",
    "#Fitting on the training data\n",
    "model3.fit(trainX, trainY, epochs=10, batch_size=256, verbose=1)"
   ]
  },
  {
   "cell_type": "markdown",
   "metadata": {},
   "source": [
    "After using the custom SGD optimizer (lr = 0.001), the training accuracy seems to have dropped by ~8%."
   ]
  },
  {
   "cell_type": "markdown",
   "metadata": {
    "colab_type": "text",
    "id": "j9CSqKvpOIVk",
    "slideshow": {
     "slide_type": "slide"
    }
   },
   "source": [
    "### Build the Neural Network model with 3 Dense layers with 100,100,10 neurons respectively in each layer. Use cross entropy loss function and singmoid as activation in the hidden layers and softmax as activation function in the output layer. Use sgd optimizer with learning rate 0.03."
   ]
  },
  {
   "cell_type": "code",
   "execution_count": 51,
   "metadata": {
    "colab": {},
    "colab_type": "code",
    "id": "GGAad54JOIVm"
   },
   "outputs": [
    {
     "name": "stdout",
     "output_type": "stream",
     "text": [
      "Train on 60000 samples\n",
      "Epoch 1/10\n",
      "60000/60000 [==============================] - 1s 16us/sample - loss: 1.9528 - accuracy: 0.5060\n",
      "Epoch 2/10\n",
      "60000/60000 [==============================] - 1s 14us/sample - loss: 1.3853 - accuracy: 0.6658\n",
      "Epoch 3/10\n",
      "60000/60000 [==============================] - 1s 12us/sample - loss: 1.0467 - accuracy: 0.7217\n",
      "Epoch 4/10\n",
      "60000/60000 [==============================] - 1s 12us/sample - loss: 0.8625 - accuracy: 0.7427\n",
      "Epoch 5/10\n",
      "60000/60000 [==============================] - 1s 12us/sample - loss: 0.7589 - accuracy: 0.7535\n",
      "Epoch 6/10\n",
      "60000/60000 [==============================] - 1s 12us/sample - loss: 0.6954 - accuracy: 0.7638\n",
      "Epoch 7/10\n",
      "60000/60000 [==============================] - 1s 12us/sample - loss: 0.6518 - accuracy: 0.7743\n",
      "Epoch 8/10\n",
      "60000/60000 [==============================] - 1s 12us/sample - loss: 0.6179 - accuracy: 0.7840\n",
      "Epoch 9/10\n",
      "60000/60000 [==============================] - 1s 12us/sample - loss: 0.5913 - accuracy: 0.7916\n",
      "Epoch 10/10\n",
      "60000/60000 [==============================] - 1s 12us/sample - loss: 0.5683 - accuracy: 0.7998\n"
     ]
    },
    {
     "data": {
      "text/plain": [
       "<tensorflow.python.keras.callbacks.History at 0x1f946313ac8>"
      ]
     },
     "execution_count": 51,
     "metadata": {},
     "output_type": "execute_result"
    }
   ],
   "source": [
    "# Define the model architecture as specified in the question\n",
    "model4 = Sequential(name = 'Final_sgd_with_lr0.03')\n",
    "#Adding the Batch Normalization layer\n",
    "model4.add(BatchNormalization())\n",
    "#Using 100 nodes and the sigmoid activation function\n",
    "model4.add(Dense(100, activation ='sigmoid'))\n",
    "model4.add(Dense(100, activation ='sigmoid'))\n",
    "#Output layer stays the same with 10 nodes and the softmax activation function\n",
    "model4.add(Dense(10,activation='softmax'))\n",
    "\n",
    "#Creating our custom sgd optimizer with learning rate as 0.03\n",
    "sgd = optimizers.SGD(lr=0.03)\n",
    "\n",
    "#Compiling the model with the optimizer created above along with the same loss and metrics parameters\n",
    "model4.compile(loss='categorical_crossentropy', optimizer=sgd, metrics=['accuracy'])\n",
    "\n",
    "#Fitting on the training data\n",
    "model4.fit(trainX, trainY, epochs=10, batch_size=256, verbose=1)"
   ]
  },
  {
   "cell_type": "markdown",
   "metadata": {},
   "source": [
    "After changing the lr to 0.03, the training accuracy is more or less the same as the previous iteration (lr= 0.001), but the model ran a **lot faster**."
   ]
  },
  {
   "cell_type": "markdown",
   "metadata": {
    "colab_type": "text",
    "id": "Nr2YsZV0OIV0",
    "slideshow": {
     "slide_type": "slide"
    }
   },
   "source": [
    "## Review model"
   ]
  },
  {
   "cell_type": "code",
   "execution_count": 53,
   "metadata": {
    "colab": {},
    "colab_type": "code",
    "id": "h4ojW6-oOIV2"
   },
   "outputs": [
    {
     "name": "stdout",
     "output_type": "stream",
     "text": [
      "Model: \"Default\"\n",
      "_________________________________________________________________\n",
      "Layer (type)                 Output Shape              Param #   \n",
      "=================================================================\n",
      "dense_12 (Dense)             multiple                  615440    \n",
      "_________________________________________________________________\n",
      "dense_13 (Dense)             multiple                  78500     \n",
      "_________________________________________________________________\n",
      "dense_14 (Dense)             multiple                  1010      \n",
      "=================================================================\n",
      "Total params: 694,950\n",
      "Trainable params: 694,950\n",
      "Non-trainable params: 0\n",
      "_________________________________________________________________\n",
      "Model: \"Default_with_Batch_Normalization\"\n",
      "_________________________________________________________________\n",
      "Layer (type)                 Output Shape              Param #   \n",
      "=================================================================\n",
      "batch_normalization_3 (Batch multiple                  3136      \n",
      "_________________________________________________________________\n",
      "dense_15 (Dense)             multiple                  615440    \n",
      "_________________________________________________________________\n",
      "dense_16 (Dense)             multiple                  78500     \n",
      "_________________________________________________________________\n",
      "dense_17 (Dense)             multiple                  1010      \n",
      "=================================================================\n",
      "Total params: 698,086\n",
      "Trainable params: 696,518\n",
      "Non-trainable params: 1,568\n",
      "_________________________________________________________________\n",
      "Model: \"Sgd_with_lr0.001\"\n",
      "_________________________________________________________________\n",
      "Layer (type)                 Output Shape              Param #   \n",
      "=================================================================\n",
      "batch_normalization_4 (Batch multiple                  3136      \n",
      "_________________________________________________________________\n",
      "dense_18 (Dense)             multiple                  615440    \n",
      "_________________________________________________________________\n",
      "dense_19 (Dense)             multiple                  78500     \n",
      "_________________________________________________________________\n",
      "dense_20 (Dense)             multiple                  1010      \n",
      "=================================================================\n",
      "Total params: 698,086\n",
      "Trainable params: 696,518\n",
      "Non-trainable params: 1,568\n",
      "_________________________________________________________________\n",
      "Model: \"Final_sgd_with_lr0.03\"\n",
      "_________________________________________________________________\n",
      "Layer (type)                 Output Shape              Param #   \n",
      "=================================================================\n",
      "batch_normalization_5 (Batch multiple                  3136      \n",
      "_________________________________________________________________\n",
      "dense_21 (Dense)             multiple                  78500     \n",
      "_________________________________________________________________\n",
      "dense_22 (Dense)             multiple                  10100     \n",
      "_________________________________________________________________\n",
      "dense_23 (Dense)             multiple                  1010      \n",
      "=================================================================\n",
      "Total params: 92,746\n",
      "Trainable params: 91,178\n",
      "Non-trainable params: 1,568\n",
      "_________________________________________________________________\n"
     ]
    }
   ],
   "source": [
    "#Reviewing all the 4 iterations\n",
    "model1.summary()\n",
    "model2.summary()\n",
    "model3.summary()\n",
    "model4.summary()"
   ]
  },
  {
   "cell_type": "markdown",
   "metadata": {
    "colab_type": "text",
    "id": "gfFGmbZLOIV5",
    "slideshow": {
     "slide_type": "slide"
    }
   },
   "source": [
    "### Run the model"
   ]
  },
  {
   "cell_type": "code",
   "execution_count": 54,
   "metadata": {},
   "outputs": [
    {
     "name": "stdout",
     "output_type": "stream",
     "text": [
      "Accuracy: 0.795\n",
      "Loss: 0.575\n"
     ]
    }
   ],
   "source": [
    "#Evaluating the model based on the latest iteration - model4\n",
    "loss, acc = model4.evaluate(testX, testY, verbose=0)\n",
    "print('Accuracy: %.3f'  % acc)\n",
    "print('Loss: %.3f' % loss)"
   ]
  },
  {
   "cell_type": "code",
   "execution_count": 55,
   "metadata": {},
   "outputs": [
    {
     "name": "stdout",
     "output_type": "stream",
     "text": [
      "Accuracy: 0.864\n",
      "Loss: 0.385\n"
     ]
    }
   ],
   "source": [
    "#Evaluating the model that had the best training accuracy - model2\n",
    "loss, acc = model2.evaluate(testX, testY, verbose=0)\n",
    "print('Accuracy: %.3f'  % acc)\n",
    "print('Loss: %.3f' % loss)"
   ]
  },
  {
   "cell_type": "code",
   "execution_count": 57,
   "metadata": {},
   "outputs": [
    {
     "data": {
      "text/plain": [
       "array([1.4680432e-05, 3.3601442e-05, 2.8918337e-05, 2.4381216e-05,\n",
       "       4.1262874e-06, 1.2049194e-01, 4.4974335e-05, 2.2185892e-01,\n",
       "       1.4886211e-03, 6.5600985e-01], dtype=float32)"
      ]
     },
     "execution_count": 57,
     "metadata": {},
     "output_type": "execute_result"
    }
   ],
   "source": [
    "#Getting the predicted values using the model from the second iteration\n",
    "y_predict = model2.predict(testX)"
   ]
  },
  {
   "cell_type": "code",
   "execution_count": 64,
   "metadata": {},
   "outputs": [],
   "source": [
    "#Converting predicted values from 10D to 1D\n",
    "y_pred = []\n",
    "for val in y_predict:\n",
    "    y_pred.append(np.argmax(val))"
   ]
  },
  {
   "cell_type": "code",
   "execution_count": 65,
   "metadata": {},
   "outputs": [],
   "source": [
    "#Converting test values from 10D to 1D\n",
    "y_test = []\n",
    "for val in testY:\n",
    "    y_test.append(np.argmax(val))"
   ]
  },
  {
   "cell_type": "code",
   "execution_count": 98,
   "metadata": {},
   "outputs": [
    {
     "data": {
      "image/png": "[encoded data removed]",
      "text/plain": [
       "<Figure size 720x720 with 1 Axes>"
      ]
     },
     "metadata": {
      "needs_background": "light"
     },
     "output_type": "display_data"
    }
   ],
   "source": [
    "#Printing the confusion matrix\n",
    "import seaborn as sns\n",
    "plt.figure(figsize = (10,10)); sns.set(font_scale=1.2)\n",
    "sns.heatmap(metrics.confusion_matrix(y_test,y_pred), annot = True, fmt='d', cbar = False, cmap = 'coolwarm')\n",
    "plt.xlabel('Predicted Values'); plt.ylabel('Actual Values')\n",
    "plt.show()"
   ]
  },
  {
   "cell_type": "code",
   "execution_count": 99,
   "metadata": {},
   "outputs": [
    {
     "name": "stdout",
     "output_type": "stream",
     "text": [
      "              precision    recall  f1-score   support\n",
      "\n",
      "           0       0.78      0.85      0.82      1000\n",
      "           1       0.98      0.96      0.97      1000\n",
      "           2       0.76      0.80      0.78      1000\n",
      "           3       0.86      0.88      0.87      1000\n",
      "           4       0.77      0.81      0.79      1000\n",
      "           5       0.94      0.94      0.94      1000\n",
      "           6       0.70      0.57      0.63      1000\n",
      "           7       0.91      0.94      0.93      1000\n",
      "           8       0.96      0.95      0.96      1000\n",
      "           9       0.96      0.94      0.95      1000\n",
      "\n",
      "    accuracy                           0.86     10000\n",
      "   macro avg       0.86      0.86      0.86     10000\n",
      "weighted avg       0.86      0.86      0.86     10000\n",
      "\n"
     ]
    }
   ],
   "source": [
    "#Printing the classification report\n",
    "print(metrics.classification_report(y_test,y_pred))"
   ]
  },
  {
   "cell_type": "markdown",
   "metadata": {},
   "source": [
    "The model was able to identify and predict items [1,5,7,8,9] very well and did not perform as well for items [0,2,4,6]."
   ]
  },
  {
   "cell_type": "markdown",
   "metadata": {},
   "source": [
    "### Conclusion"
   ]
  },
  {
   "cell_type": "markdown",
   "metadata": {},
   "source": [
    "Out of the 4 iterations that we have tried, the best model was obtained in iteration2:  \n",
    "1. One with default SGD optimizer\n",
    "2. 784 nodes in the first hidden layer\n",
    "3. Uses a batch normalization layer after the input layer  \n",
    "\n",
    "**The model had a training accuracy of 88% and a test accuracy of 86.5%.**"
   ]
  },
  {
   "cell_type": "code",
   "execution_count": 26,
   "metadata": {},
   "outputs": [
    {
     "name": "stdout",
     "output_type": "stream",
     "text": [
      "Model: \"Default_with_Batch_Normalization\"\n",
      "_________________________________________________________________\n",
      "Layer (type)                 Output Shape              Param #   \n",
      "=================================================================\n",
      "batch_normalization (BatchNo multiple                  3136      \n",
      "_________________________________________________________________\n",
      "dense_3 (Dense)              multiple                  615440    \n",
      "_________________________________________________________________\n",
      "dense_4 (Dense)              multiple                  78500     \n",
      "_________________________________________________________________\n",
      "dense_5 (Dense)              multiple                  1010      \n",
      "=================================================================\n",
      "Total params: 698,086\n",
      "Trainable params: 696,518\n",
      "Non-trainable params: 1,568\n",
      "_________________________________________________________________\n"
     ]
    }
   ],
   "source": [
    "model2.summary()"
   ]
  },
  {
   "cell_type": "markdown",
   "metadata": {},
   "source": [
    "-----"
   ]
  }
 ],
 "metadata": {
  "colab": {
   "name": "R6_ExternalLab_AIML.ipynb",
   "provenance": [],
   "version": "0.3.2"
  },
  "kernelspec": {
   "display_name": "Python 3",
   "language": "python",
   "name": "python3"
  },
  "language_info": {
   "codemirror_mode": {
    "name": "ipython",
    "version": 3
   },
   "file_extension": ".py",
   "mimetype": "text/x-python",
   "name": "python",
   "nbconvert_exporter": "python",
   "pygments_lexer": "ipython3",
   "version": "3.7.6"
  }
 },
 "nbformat": 4,
 "nbformat_minor": 1
}
