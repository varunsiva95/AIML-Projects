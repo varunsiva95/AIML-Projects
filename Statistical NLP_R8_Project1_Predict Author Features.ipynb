{
 "cells": [
  {
   "cell_type": "code",
   "execution_count": 62,
   "metadata": {},
   "outputs": [],
   "source": [
    "import pandas as pd\n",
    "import numpy as np\n",
    "import seaborn as sns\n",
    "import matplotlib.pyplot as plt\n",
    "from warnings import filterwarnings\n",
    "filterwarnings(action = 'ignore')"
   ]
  },
  {
   "cell_type": "code",
   "execution_count": 34,
   "metadata": {},
   "outputs": [],
   "source": [
    "#Reading the file\n",
    "df = pd.read_csv('blogtext.csv')"
   ]
  },
  {
   "cell_type": "code",
   "execution_count": 35,
   "metadata": {},
   "outputs": [],
   "source": [
    "#Taking a sample of 200k rows\n",
    "df = df.sample(n = 5000)\n",
    "df.reset_index(inplace = True)"
   ]
  },
  {
   "cell_type": "code",
   "execution_count": 36,
   "metadata": {},
   "outputs": [
    {
     "data": {
      "text/plain": [
       "index      int64\n",
       "id         int64\n",
       "gender    object\n",
       "age        int64\n",
       "topic     object\n",
       "sign      object\n",
       "date      object\n",
       "text      object\n",
       "dtype: object"
      ]
     },
     "execution_count": 36,
     "metadata": {},
     "output_type": "execute_result"
    }
   ],
   "source": [
    "#Looking at dtypes\n",
    "df.dtypes"
   ]
  },
  {
   "cell_type": "code",
   "execution_count": 37,
   "metadata": {},
   "outputs": [],
   "source": [
    "#Converting age to string\n",
    "df['age'] = df['age'].astype('str')"
   ]
  },
  {
   "cell_type": "code",
   "execution_count": 38,
   "metadata": {},
   "outputs": [
    {
     "data": {
      "text/html": [
       "<div>\n",
       "<style scoped>\n",
       "    .dataframe tbody tr th:only-of-type {\n",
       "        vertical-align: middle;\n",
       "    }\n",
       "\n",
       "    .dataframe tbody tr th {\n",
       "        vertical-align: top;\n",
       "    }\n",
       "\n",
       "    .dataframe thead th {\n",
       "        text-align: right;\n",
       "    }\n",
       "</style>\n",
       "<table border=\"1\" class=\"dataframe\">\n",
       "  <thead>\n",
       "    <tr style=\"text-align: right;\">\n",
       "      <th></th>\n",
       "      <th>index</th>\n",
       "      <th>id</th>\n",
       "      <th>gender</th>\n",
       "      <th>age</th>\n",
       "      <th>topic</th>\n",
       "      <th>sign</th>\n",
       "      <th>date</th>\n",
       "      <th>text</th>\n",
       "    </tr>\n",
       "  </thead>\n",
       "  <tbody>\n",
       "    <tr>\n",
       "      <th>0</th>\n",
       "      <td>32564</td>\n",
       "      <td>3622069</td>\n",
       "      <td>female</td>\n",
       "      <td>23</td>\n",
       "      <td>indUnk</td>\n",
       "      <td>Aries</td>\n",
       "      <td>08,July,2004</td>\n",
       "      <td>y i say like tat...wan sth u wish to kn...</td>\n",
       "    </tr>\n",
       "    <tr>\n",
       "      <th>1</th>\n",
       "      <td>562589</td>\n",
       "      <td>1157144</td>\n",
       "      <td>female</td>\n",
       "      <td>17</td>\n",
       "      <td>Student</td>\n",
       "      <td>Libra</td>\n",
       "      <td>05,August,2004</td>\n",
       "      <td>OK so... birthday San Fran thing... is ...</td>\n",
       "    </tr>\n",
       "    <tr>\n",
       "      <th>2</th>\n",
       "      <td>257166</td>\n",
       "      <td>2815932</td>\n",
       "      <td>male</td>\n",
       "      <td>26</td>\n",
       "      <td>Science</td>\n",
       "      <td>Sagittarius</td>\n",
       "      <td>05,April,2004</td>\n",
       "      <td>Here are your comments immortalised...</td>\n",
       "    </tr>\n",
       "    <tr>\n",
       "      <th>3</th>\n",
       "      <td>301715</td>\n",
       "      <td>3669029</td>\n",
       "      <td>female</td>\n",
       "      <td>13</td>\n",
       "      <td>indUnk</td>\n",
       "      <td>Libra</td>\n",
       "      <td>20,July,2004</td>\n",
       "      <td>&amp;nbsp;&amp;nbsp; you kno its really wierd ...</td>\n",
       "    </tr>\n",
       "    <tr>\n",
       "      <th>4</th>\n",
       "      <td>396918</td>\n",
       "      <td>3636814</td>\n",
       "      <td>female</td>\n",
       "      <td>39</td>\n",
       "      <td>Fashion</td>\n",
       "      <td>Pisces</td>\n",
       "      <td>29,June,2004</td>\n",
       "      <td>I've been considering getting a bike. N...</td>\n",
       "    </tr>\n",
       "  </tbody>\n",
       "</table>\n",
       "</div>"
      ],
      "text/plain": [
       "    index       id  gender age    topic         sign            date  \\\n",
       "0   32564  3622069  female  23   indUnk        Aries    08,July,2004   \n",
       "1  562589  1157144  female  17  Student        Libra  05,August,2004   \n",
       "2  257166  2815932    male  26  Science  Sagittarius   05,April,2004   \n",
       "3  301715  3669029  female  13   indUnk        Libra    20,July,2004   \n",
       "4  396918  3636814  female  39  Fashion       Pisces    29,June,2004   \n",
       "\n",
       "                                                text  \n",
       "0         y i say like tat...wan sth u wish to kn...  \n",
       "1         OK so... birthday San Fran thing... is ...  \n",
       "2             Here are your comments immortalised...  \n",
       "3          &nbsp;&nbsp; you kno its really wierd ...  \n",
       "4         I've been considering getting a bike. N...  "
      ]
     },
     "execution_count": 38,
     "metadata": {},
     "output_type": "execute_result"
    }
   ],
   "source": [
    "df.head()"
   ]
  },
  {
   "cell_type": "code",
   "execution_count": 39,
   "metadata": {},
   "outputs": [],
   "source": [
    "import re\n",
    "from nltk.corpus import stopwords \n",
    "from nltk.tokenize import word_tokenize \n",
    "stop_words = set(stopwords.words('english')) \n",
    "\n",
    "def remove_stopwords(sentence):\n",
    "    word_tokens = word_tokenize(sentence)\n",
    "    filtered_sentence = [w for w in word_tokens if not w in stop_words] \n",
    "    return \" \".join(filtered_sentence)"
   ]
  },
  {
   "cell_type": "markdown",
   "metadata": {},
   "source": [
    "### Preprocessing"
   ]
  },
  {
   "cell_type": "code",
   "execution_count": 40,
   "metadata": {},
   "outputs": [
    {
     "name": "stdout",
     "output_type": "stream",
     "text": [
      "Wall time: 3.16 s\n"
     ]
    }
   ],
   "source": [
    "%%time\n",
    "\n",
    "#Converting text to lowercase\n",
    "df['text'] = df['text'].apply(lambda s: s.lower())\n",
    "\n",
    "#Selecting only numbers, alphabets, and #+_ \n",
    "df['text'] = df['text'].apply(lambda s: re.sub('[^0-9a-z ]','',s))\n",
    "\n",
    "#Removing stop words\n",
    "df.apply(lambda x: remove_stopwords(x['text']), axis = 1)\n",
    "\n",
    "#Removing extra spaces\n",
    "df['text'] = df['text'].apply(lambda s: s.strip())"
   ]
  },
  {
   "cell_type": "markdown",
   "metadata": {},
   "source": [
    "### Merging all column labels together"
   ]
  },
  {
   "cell_type": "code",
   "execution_count": 41,
   "metadata": {},
   "outputs": [],
   "source": [
    "#Creating a list with combination of each row across 4 columns\n",
    "results = []\n",
    "for i in range(len(df)):\n",
    "    l=[]\n",
    "    l.append(df.loc[i,'gender'])\n",
    "    l.append(df.loc[i,'age'])\n",
    "    l.append(df.loc[i,'topic'])\n",
    "    l.append(df.loc[i,'sign'])\n",
    "    results.append(l)\n",
    "df['label'] = results\n",
    "\n",
    "# #Subsetting only the text and label columns\n",
    "# df = df[['text','label']]"
   ]
  },
  {
   "cell_type": "code",
   "execution_count": 42,
   "metadata": {},
   "outputs": [
    {
     "data": {
      "text/html": [
       "<div>\n",
       "<style scoped>\n",
       "    .dataframe tbody tr th:only-of-type {\n",
       "        vertical-align: middle;\n",
       "    }\n",
       "\n",
       "    .dataframe tbody tr th {\n",
       "        vertical-align: top;\n",
       "    }\n",
       "\n",
       "    .dataframe thead th {\n",
       "        text-align: right;\n",
       "    }\n",
       "</style>\n",
       "<table border=\"1\" class=\"dataframe\">\n",
       "  <thead>\n",
       "    <tr style=\"text-align: right;\">\n",
       "      <th></th>\n",
       "      <th>index</th>\n",
       "      <th>id</th>\n",
       "      <th>gender</th>\n",
       "      <th>age</th>\n",
       "      <th>topic</th>\n",
       "      <th>sign</th>\n",
       "      <th>date</th>\n",
       "      <th>text</th>\n",
       "      <th>label</th>\n",
       "    </tr>\n",
       "  </thead>\n",
       "  <tbody>\n",
       "    <tr>\n",
       "      <th>0</th>\n",
       "      <td>32564</td>\n",
       "      <td>3622069</td>\n",
       "      <td>female</td>\n",
       "      <td>23</td>\n",
       "      <td>indUnk</td>\n",
       "      <td>Aries</td>\n",
       "      <td>08,July,2004</td>\n",
       "      <td>y i say like tatwan sth u wish to knowto meett...</td>\n",
       "      <td>[female, 23, indUnk, Aries]</td>\n",
       "    </tr>\n",
       "    <tr>\n",
       "      <th>1</th>\n",
       "      <td>562589</td>\n",
       "      <td>1157144</td>\n",
       "      <td>female</td>\n",
       "      <td>17</td>\n",
       "      <td>Student</td>\n",
       "      <td>Libra</td>\n",
       "      <td>05,August,2004</td>\n",
       "      <td>ok so birthday san fran thing is saturday ok all</td>\n",
       "      <td>[female, 17, Student, Libra]</td>\n",
       "    </tr>\n",
       "    <tr>\n",
       "      <th>2</th>\n",
       "      <td>257166</td>\n",
       "      <td>2815932</td>\n",
       "      <td>male</td>\n",
       "      <td>26</td>\n",
       "      <td>Science</td>\n",
       "      <td>Sagittarius</td>\n",
       "      <td>05,April,2004</td>\n",
       "      <td>here are your comments immortalised  is that h...</td>\n",
       "      <td>[male, 26, Science, Sagittarius]</td>\n",
       "    </tr>\n",
       "    <tr>\n",
       "      <th>3</th>\n",
       "      <td>301715</td>\n",
       "      <td>3669029</td>\n",
       "      <td>female</td>\n",
       "      <td>13</td>\n",
       "      <td>indUnk</td>\n",
       "      <td>Libra</td>\n",
       "      <td>20,July,2004</td>\n",
       "      <td>nbspnbsp you kno its really wierd how people l...</td>\n",
       "      <td>[female, 13, indUnk, Libra]</td>\n",
       "    </tr>\n",
       "    <tr>\n",
       "      <th>4</th>\n",
       "      <td>396918</td>\n",
       "      <td>3636814</td>\n",
       "      <td>female</td>\n",
       "      <td>39</td>\n",
       "      <td>Fashion</td>\n",
       "      <td>Pisces</td>\n",
       "      <td>29,June,2004</td>\n",
       "      <td>ive been considering getting a bike no not a h...</td>\n",
       "      <td>[female, 39, Fashion, Pisces]</td>\n",
       "    </tr>\n",
       "  </tbody>\n",
       "</table>\n",
       "</div>"
      ],
      "text/plain": [
       "    index       id  gender age    topic         sign            date  \\\n",
       "0   32564  3622069  female  23   indUnk        Aries    08,July,2004   \n",
       "1  562589  1157144  female  17  Student        Libra  05,August,2004   \n",
       "2  257166  2815932    male  26  Science  Sagittarius   05,April,2004   \n",
       "3  301715  3669029  female  13   indUnk        Libra    20,July,2004   \n",
       "4  396918  3636814  female  39  Fashion       Pisces    29,June,2004   \n",
       "\n",
       "                                                text  \\\n",
       "0  y i say like tatwan sth u wish to knowto meett...   \n",
       "1   ok so birthday san fran thing is saturday ok all   \n",
       "2  here are your comments immortalised  is that h...   \n",
       "3  nbspnbsp you kno its really wierd how people l...   \n",
       "4  ive been considering getting a bike no not a h...   \n",
       "\n",
       "                              label  \n",
       "0       [female, 23, indUnk, Aries]  \n",
       "1      [female, 17, Student, Libra]  \n",
       "2  [male, 26, Science, Sagittarius]  \n",
       "3       [female, 13, indUnk, Libra]  \n",
       "4     [female, 39, Fashion, Pisces]  "
      ]
     },
     "execution_count": 42,
     "metadata": {},
     "output_type": "execute_result"
    }
   ],
   "source": [
    "df.head()"
   ]
  },
  {
   "cell_type": "markdown",
   "metadata": {},
   "source": [
    "### Separating features and labels + Train-test split"
   ]
  },
  {
   "cell_type": "code",
   "execution_count": 43,
   "metadata": {},
   "outputs": [],
   "source": [
    "#Selecting the feature column\n",
    "features = df['text']\n",
    "labels = df['label']\n",
    "\n",
    "#Train test split\n",
    "from sklearn.model_selection import train_test_split\n",
    "X_train, X_test, y_train, y_test = train_test_split(features, labels, test_size = 0.3, random_state = 42)"
   ]
  },
  {
   "cell_type": "markdown",
   "metadata": {},
   "source": [
    "### Vectorize the features"
   ]
  },
  {
   "cell_type": "markdown",
   "metadata": {},
   "source": [
    "A. Create a Bag of Words using count vectorizer  \n",
    "i. Use ngram_range=(1, 2)  \n",
    "ii. Vectorize training and testing features"
   ]
  },
  {
   "cell_type": "code",
   "execution_count": 44,
   "metadata": {},
   "outputs": [
    {
     "name": "stdout",
     "output_type": "stream",
     "text": [
      "Wall time: 1.49 s\n"
     ]
    }
   ],
   "source": [
    "%%time\n",
    "from sklearn.feature_extraction.text import CountVectorizer\n",
    "cv = CountVectorizer(stop_words='english',ngram_range=(1, 2),max_df=0.2,min_df=2)\n",
    "#fit_transform on X_train\n",
    "X_train_vector = cv.fit_transform(X_train)\n",
    "#transform on X_test\n",
    "X_test_vector = cv.transform(X_test)"
   ]
  },
  {
   "cell_type": "markdown",
   "metadata": {},
   "source": [
    "b. Print the term-document matrix"
   ]
  },
  {
   "cell_type": "code",
   "execution_count": 45,
   "metadata": {
    "scrolled": true
   },
   "outputs": [
    {
     "name": "stdout",
     "output_type": "stream",
     "text": [
      "  (0, 28367)\t1\n",
      "  (0, 2067)\t1\n",
      "  (0, 6414)\t1\n",
      "  (0, 25767)\t1\n",
      "  (0, 4767)\t1\n",
      "  (0, 19398)\t1\n",
      "  (0, 33852)\t1\n",
      "  (0, 31859)\t1\n",
      "  (0, 606)\t1\n",
      "  (0, 3218)\t1\n",
      "  (0, 360)\t1\n",
      "  (0, 13955)\t2\n",
      "  (0, 28703)\t1\n",
      "  (0, 18049)\t1\n",
      "  (0, 20027)\t1\n",
      "  (0, 18890)\t1\n",
      "  (0, 2074)\t1\n",
      "  (0, 29690)\t1\n",
      "  (0, 18904)\t1\n",
      "  (0, 14028)\t1\n",
      "  (1, 25767)\t1\n",
      "  (1, 19079)\t2\n",
      "  (1, 2310)\t1\n",
      "  (1, 32211)\t1\n",
      "  (1, 23682)\t1\n",
      "  :\t:\n",
      "  (3499, 31589)\t1\n",
      "  (3499, 6781)\t1\n",
      "  (3499, 5817)\t1\n",
      "  (3499, 32840)\t1\n",
      "  (3499, 21502)\t1\n",
      "  (3499, 22837)\t1\n",
      "  (3499, 20478)\t1\n",
      "  (3499, 6563)\t1\n",
      "  (3499, 13171)\t1\n",
      "  (3499, 24687)\t2\n",
      "  (3499, 21808)\t1\n",
      "  (3499, 14318)\t1\n",
      "  (3499, 20280)\t1\n",
      "  (3499, 19648)\t1\n",
      "  (3499, 14002)\t1\n",
      "  (3499, 31631)\t1\n",
      "  (3499, 34131)\t1\n",
      "  (3499, 8367)\t1\n",
      "  (3499, 28675)\t1\n",
      "  (3499, 30750)\t1\n",
      "  (3499, 28226)\t1\n",
      "  (3499, 19965)\t1\n",
      "  (3499, 8149)\t1\n",
      "  (3499, 20991)\t1\n",
      "  (3499, 27514)\t1\n"
     ]
    }
   ],
   "source": [
    "#print the dtm\n",
    "print(X_train_vector)"
   ]
  },
  {
   "cell_type": "markdown",
   "metadata": {},
   "source": [
    "### 6. Create a dictionary to get the count of every label"
   ]
  },
  {
   "cell_type": "code",
   "execution_count": 46,
   "metadata": {},
   "outputs": [],
   "source": [
    "columns=['gender','age','topic','sign']\n",
    "x={}\n",
    "for i in columns:\n",
    "    x.update(df[i].value_counts())"
   ]
  },
  {
   "cell_type": "code",
   "execution_count": 47,
   "metadata": {
    "scrolled": true
   },
   "outputs": [
    {
     "data": {
      "text/plain": [
       "{'male': 2510,\n",
       " 'female': 2490,\n",
       " '17': 616,\n",
       " '24': 556,\n",
       " '16': 555,\n",
       " '23': 547,\n",
       " '25': 521,\n",
       " '26': 419,\n",
       " '27': 341,\n",
       " '15': 298,\n",
       " '14': 213,\n",
       " '34': 131,\n",
       " '33': 122,\n",
       " '35': 109,\n",
       " '13': 106,\n",
       " '36': 98,\n",
       " '37': 63,\n",
       " '38': 50,\n",
       " '45': 36,\n",
       " '39': 33,\n",
       " '40': 32,\n",
       " '43': 32,\n",
       " '42': 30,\n",
       " '46': 26,\n",
       " '41': 23,\n",
       " '48': 16,\n",
       " '44': 14,\n",
       " '47': 13,\n",
       " 'indUnk': 1824,\n",
       " 'Student': 1125,\n",
       " 'Technology': 306,\n",
       " 'Arts': 255,\n",
       " 'Education': 223,\n",
       " 'Communications-Media': 162,\n",
       " 'Internet': 120,\n",
       " 'Non-Profit': 105,\n",
       " 'Engineering': 84,\n",
       " 'Law': 64,\n",
       " 'Publishing': 60,\n",
       " 'Science': 54,\n",
       " 'Religion': 44,\n",
       " 'Accounting': 43,\n",
       " 'Government': 43,\n",
       " 'Consulting': 41,\n",
       " 'Fashion': 37,\n",
       " 'Advertising': 36,\n",
       " 'Marketing': 33,\n",
       " 'Banking': 30,\n",
       " 'BusinessServices': 28,\n",
       " 'Chemicals': 28,\n",
       " 'Telecommunications': 28,\n",
       " 'Military': 25,\n",
       " 'RealEstate': 25,\n",
       " 'Transportation': 19,\n",
       " 'Sports-Recreation': 19,\n",
       " 'Manufacturing': 18,\n",
       " 'HumanResources': 18,\n",
       " 'Biotech': 17,\n",
       " 'Museums-Libraries': 16,\n",
       " 'Automotive': 15,\n",
       " 'Tourism': 15,\n",
       " 'InvestmentBanking': 10,\n",
       " 'Construction': 9,\n",
       " 'Architecture': 7,\n",
       " 'LawEnforcement-Security': 6,\n",
       " 'Agriculture': 6,\n",
       " 'Maritime': 1,\n",
       " 'Environment': 1,\n",
       " 'Aries': 485,\n",
       " 'Cancer': 476,\n",
       " 'Taurus': 456,\n",
       " 'Libra': 454,\n",
       " 'Virgo': 449,\n",
       " 'Scorpio': 422,\n",
       " 'Leo': 414,\n",
       " 'Pisces': 397,\n",
       " 'Capricorn': 376,\n",
       " 'Aquarius': 367,\n",
       " 'Gemini': 360,\n",
       " 'Sagittarius': 344}"
      ]
     },
     "execution_count": 47,
     "metadata": {},
     "output_type": "execute_result"
    }
   ],
   "source": [
    "x"
   ]
  },
  {
   "cell_type": "markdown",
   "metadata": {},
   "source": [
    "### 7.Transform the labels\n",
    "a. Convert your train and test labels using MultiLabelBinarizer"
   ]
  },
  {
   "cell_type": "code",
   "execution_count": 63,
   "metadata": {},
   "outputs": [],
   "source": [
    "from sklearn.preprocessing import MultiLabelBinarizer\n",
    "mlb = MultiLabelBinarizer()\n",
    "\n",
    "#Getting the one-hot-encoded output as an array\n",
    "y_train_transform = mlb.fit_transform(y_train)\n",
    "y_test_transform = mlb.transform(y_test)"
   ]
  },
  {
   "cell_type": "markdown",
   "metadata": {},
   "source": [
    "### 8. Choose a classifier\n",
    "a. Use a linear classifier of your choice, wrap it up in OneVsRestClassifier to train it on\n",
    "every label"
   ]
  },
  {
   "cell_type": "code",
   "execution_count": 64,
   "metadata": {},
   "outputs": [],
   "source": [
    "from sklearn.multiclass import OneVsRestClassifier\n",
    "from sklearn.linear_model import LogisticRegression\n",
    "\n",
    "clf = LogisticRegression(solver='lbfgs')\n",
    "clf = OneVsRestClassifier(clf)"
   ]
  },
  {
   "cell_type": "markdown",
   "metadata": {},
   "source": [
    "### 9. Fit the classifier, make predictions and get the accuracy "
   ]
  },
  {
   "cell_type": "code",
   "execution_count": 65,
   "metadata": {
    "scrolled": true
   },
   "outputs": [
    {
     "name": "stdout",
     "output_type": "stream",
     "text": [
      "Wall time: 15.4 s\n"
     ]
    },
    {
     "data": {
      "text/plain": [
       "OneVsRestClassifier(estimator=LogisticRegression(C=1.0, class_weight=None,\n",
       "                                                 dual=False, fit_intercept=True,\n",
       "                                                 intercept_scaling=1,\n",
       "                                                 l1_ratio=None, max_iter=100,\n",
       "                                                 multi_class='auto',\n",
       "                                                 n_jobs=None, penalty='l2',\n",
       "                                                 random_state=None,\n",
       "                                                 solver='lbfgs', tol=0.0001,\n",
       "                                                 verbose=0, warm_start=False),\n",
       "                    n_jobs=None)"
      ]
     },
     "execution_count": 65,
     "metadata": {},
     "output_type": "execute_result"
    }
   ],
   "source": [
    "%%time\n",
    "clf.fit(X_train_vector, y_train_transform)"
   ]
  },
  {
   "cell_type": "markdown",
   "metadata": {},
   "source": [
    "### Print the following\n",
    "1. Accuracy score\n",
    "2. F1 score\n",
    "3. Average precision score\n",
    "4. Average recall score  "
   ]
  },
  {
   "cell_type": "code",
   "execution_count": 74,
   "metadata": {},
   "outputs": [
    {
     "name": "stdout",
     "output_type": "stream",
     "text": [
      "Test Accuracy:  0.0013333333333333333\n",
      "F1-Score using macro average is: 0.03727682334499728\n",
      "Average Precision using macro average is: nan\n",
      "Average Recall using macro average is: 0.029288463269384737\n"
     ]
    }
   ],
   "source": [
    "from sklearn import metrics\n",
    "#Using macro average as it gives equal weight to all the datapoints\n",
    "print('Test Accuracy: ',metrics.accuracy_score(y_test_transform, clf.predict(X_test_vector)))\n",
    "print('F1-Score using macro average is:',metrics.f1_score(y_test_transform, clf.predict(X_test_vector),average='macro'))\n",
    "print('Average Precision using macro average is:',metrics.average_precision_score(y_test_transform, clf.predict(X_test_vector),average='macro'))\n",
    "print('Average Recall using macro average is:',metrics.recall_score(y_test_transform, clf.predict(X_test_vector),average='macro'))"
   ]
  },
  {
   "cell_type": "code",
   "execution_count": 76,
   "metadata": {
    "scrolled": true
   },
   "outputs": [
    {
     "name": "stdout",
     "output_type": "stream",
     "text": [
      "              precision    recall  f1-score   support\n",
      "\n",
      "           0       0.00      0.00      0.00        33\n",
      "           1       0.60      0.05      0.10        57\n",
      "           2       0.19      0.05      0.08        80\n",
      "           3       0.20      0.05      0.08       180\n",
      "           4       0.34      0.11      0.16       177\n",
      "           5       0.26      0.05      0.08       170\n",
      "           6       0.12      0.02      0.03       156\n",
      "           7       0.12      0.02      0.04       161\n",
      "           8       0.25      0.03      0.05       130\n",
      "           9       0.00      0.00      0.00       107\n",
      "          10       0.50      0.02      0.05        41\n",
      "          11       0.50      0.02      0.04        46\n",
      "          12       0.00      0.00      0.00        40\n",
      "          13       0.00      0.00      0.00        25\n",
      "          14       0.00      0.00      0.00        15\n",
      "          15       0.00      0.00      0.00        11\n",
      "          16       0.00      0.00      0.00        12\n",
      "          17       0.00      0.00      0.00         8\n",
      "          18       0.00      0.00      0.00         6\n",
      "          19       0.00      0.00      0.00         7\n",
      "          20       0.00      0.00      0.00        11\n",
      "          21       0.00      0.00      0.00         6\n",
      "          22       0.00      0.00      0.00         6\n",
      "          23       0.00      0.00      0.00         6\n",
      "          24       0.00      0.00      0.00         3\n",
      "          25       0.00      0.00      0.00         6\n",
      "          26       0.00      0.00      0.00         8\n",
      "          27       0.00      0.00      0.00        14\n",
      "          28       0.00      0.00      0.00         2\n",
      "          29       0.25      0.03      0.05       120\n",
      "          30       0.00      0.00      0.00         3\n",
      "          31       0.11      0.01      0.02       156\n",
      "          32       0.00      0.00      0.00        72\n",
      "          33       0.00      0.00      0.00         3\n",
      "          34       0.00      0.00      0.00         9\n",
      "          35       0.00      0.00      0.00         7\n",
      "          36       0.00      0.00      0.00        10\n",
      "          37       0.22      0.03      0.05       135\n",
      "          38       0.14      0.03      0.05       108\n",
      "          39       0.00      0.00      0.00         6\n",
      "          40       0.00      0.00      0.00        60\n",
      "          41       0.00      0.00      0.00         5\n",
      "          42       0.00      0.00      0.00        14\n",
      "          43       0.14      0.01      0.03        70\n",
      "          44       0.00      0.00      0.00        23\n",
      "          45       0.00      0.00      0.00         0\n",
      "          46       0.00      0.00      0.00         9\n",
      "          47       0.08      0.01      0.02       100\n",
      "          48       0.00      0.00      0.00        16\n",
      "          49       0.00      0.00      0.00         7\n",
      "          50       0.00      0.00      0.00        30\n",
      "          51       0.00      0.00      0.00         3\n",
      "          52       0.20      0.06      0.10        16\n",
      "          53       0.00      0.00      0.00         1\n",
      "          54       0.06      0.01      0.01       127\n",
      "          55       0.22      0.03      0.05       134\n",
      "          56       0.00      0.00      0.00         7\n",
      "          57       0.00      0.00      0.00         6\n",
      "          58       0.00      0.00      0.00         8\n",
      "          59       0.00      0.00      0.00         6\n",
      "          60       0.00      0.00      0.00        29\n",
      "          61       0.07      0.01      0.01       120\n",
      "          62       0.00      0.00      0.00        15\n",
      "          63       0.00      0.00      0.00         7\n",
      "          64       0.00      0.00      0.00         6\n",
      "          65       0.00      0.00      0.00       108\n",
      "          66       0.00      0.00      0.00        18\n",
      "          67       0.11      0.02      0.03       114\n",
      "          68       0.00      0.00      0.00         6\n",
      "          69       0.38      0.16      0.23       341\n",
      "          70       0.30      0.02      0.04       153\n",
      "          71       0.18      0.02      0.04        99\n",
      "          72       0.00      0.00      0.00        10\n",
      "          73       0.00      0.00      0.00         5\n",
      "          74       0.00      0.00      0.00         5\n",
      "          75       0.17      0.02      0.04       125\n",
      "          76       0.60      0.54      0.57       762\n",
      "          77       0.40      0.25      0.31       543\n",
      "          78       0.57      0.63      0.59       738\n",
      "\n",
      "   micro avg       0.47      0.19      0.27      5999\n",
      "   macro avg       0.09      0.03      0.04      5999\n",
      "weighted avg       0.30      0.19      0.21      5999\n",
      " samples avg       0.51      0.19      0.27      5999\n",
      "\n"
     ]
    }
   ],
   "source": [
    "#We can also print the classification report to display all these metrics at once\n",
    "print(metrics.classification_report(y_test_transform, clf.predict(X_test_vector)))"
   ]
  },
  {
   "cell_type": "markdown",
   "metadata": {},
   "source": [
    "### 10. Print true label and predicted label for any five examples "
   ]
  },
  {
   "cell_type": "code",
   "execution_count": 71,
   "metadata": {},
   "outputs": [
    {
     "data": {
      "text/plain": [
       "[('female', 'indUnk'), ('male',), ('female',), ('female',), ('indUnk', 'male')]"
      ]
     },
     "execution_count": 71,
     "metadata": {},
     "output_type": "execute_result"
    }
   ],
   "source": [
    "#Printing the labels of the predicted values for first 5 examples\n",
    "mlb.inverse_transform(clf.predict(X_test_vector[:5]))"
   ]
  },
  {
   "cell_type": "code",
   "execution_count": 69,
   "metadata": {},
   "outputs": [
    {
     "data": {
      "text/plain": [
       "[('15', 'Non-Profit', 'Scorpio', 'male'),\n",
       " ('26', 'Aries', 'Student', 'female'),\n",
       " ('23', 'Cancer', 'Student', 'female'),\n",
       " ('24', 'Student', 'Taurus', 'male'),\n",
       " ('14', 'Student', 'Virgo', 'male')]"
      ]
     },
     "execution_count": 69,
     "metadata": {},
     "output_type": "execute_result"
    }
   ],
   "source": [
    "#Printing the actual labels for the first 5 examples\n",
    "mlb.inverse_transform(y_test_transform[:5])"
   ]
  },
  {
   "cell_type": "markdown",
   "metadata": {},
   "source": [
    "Due to the large number of classes and the limitations of performance, we were not able to generate a model with a good accuracy. Using ensemble classifiers/neural networks along with a powerful GPU will enable us to use a larger dataset for training and might lead to better accuracies."
   ]
  },
  {
   "cell_type": "markdown",
   "metadata": {},
   "source": [
    "---------"
   ]
  }
 ],
 "metadata": {
  "kernelspec": {
   "display_name": "Python 3",
   "language": "python",
   "name": "python3"
  },
  "language_info": {
   "codemirror_mode": {
    "name": "ipython",
    "version": 3
   },
   "file_extension": ".py",
   "mimetype": "text/x-python",
   "name": "python",
   "nbconvert_exporter": "python",
   "pygments_lexer": "ipython3",
   "version": "3.7.6"
  }
 },
 "nbformat": 4,
 "nbformat_minor": 4
}
